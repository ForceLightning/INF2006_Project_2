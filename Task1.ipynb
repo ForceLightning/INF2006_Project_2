{
 "cells": [
  {
   "cell_type": "code",
   "execution_count": 19,
   "metadata": {},
   "outputs": [],
   "source": [
    "import pandas as pd\n",
    "\n",
    "from pyspark.sql import SparkSession"
   ]
  },
  {
   "cell_type": "markdown",
   "metadata": {},
   "source": [
    "Load combined dataset and removing duplicated rows"
   ]
  },
  {
   "cell_type": "code",
   "execution_count": 20,
   "metadata": {},
   "outputs": [
    {
     "name": "stderr",
     "output_type": "stream",
     "text": [
      "C:\\Users\\Jurgen\\AppData\\Local\\Temp\\ipykernel_11596\\1164425126.py:1: DtypeWarning: Columns (4,17,19) have mixed types. Specify dtype option on import or set low_memory=False.\n",
      "  df = pd.read_csv('./Twitter_Airline Dataset/combined.csv').drop_duplicates()\n"
     ]
    },
    {
     "data": {
      "text/html": [
       "<div>\n",
       "<style scoped>\n",
       "    .dataframe tbody tr th:only-of-type {\n",
       "        vertical-align: middle;\n",
       "    }\n",
       "\n",
       "    .dataframe tbody tr th {\n",
       "        vertical-align: top;\n",
       "    }\n",
       "\n",
       "    .dataframe thead th {\n",
       "        text-align: right;\n",
       "    }\n",
       "</style>\n",
       "<table border=\"1\" class=\"dataframe\">\n",
       "  <thead>\n",
       "    <tr style=\"text-align: right;\">\n",
       "      <th></th>\n",
       "      <th>_unit_id</th>\n",
       "      <th>_created_at</th>\n",
       "      <th>_golden</th>\n",
       "      <th>_id</th>\n",
       "      <th>_missed</th>\n",
       "      <th>_started_at</th>\n",
       "      <th>_tainted</th>\n",
       "      <th>_channel</th>\n",
       "      <th>_trust</th>\n",
       "      <th>_worker_id</th>\n",
       "      <th>...</th>\n",
       "      <th>airline_sentiment_gold</th>\n",
       "      <th>name</th>\n",
       "      <th>negativereason_gold</th>\n",
       "      <th>retweet_count</th>\n",
       "      <th>text</th>\n",
       "      <th>tweet_coord</th>\n",
       "      <th>tweet_created</th>\n",
       "      <th>tweet_id</th>\n",
       "      <th>tweet_location</th>\n",
       "      <th>user_timezone</th>\n",
       "    </tr>\n",
       "  </thead>\n",
       "  <tbody>\n",
       "    <tr>\n",
       "      <th>0</th>\n",
       "      <td>681448150</td>\n",
       "      <td>2/25/2015 04:52:40</td>\n",
       "      <td>False</td>\n",
       "      <td>1575073003</td>\n",
       "      <td>NaN</td>\n",
       "      <td>2/25/2015 04:49:12</td>\n",
       "      <td>False</td>\n",
       "      <td>elite</td>\n",
       "      <td>0.8108</td>\n",
       "      <td>31110645</td>\n",
       "      <td>...</td>\n",
       "      <td>NaN</td>\n",
       "      <td>cairdin</td>\n",
       "      <td>NaN</td>\n",
       "      <td>0</td>\n",
       "      <td>@VirginAmerica What @dhepburn said.</td>\n",
       "      <td>NaN</td>\n",
       "      <td>24/2/2015 11:35</td>\n",
       "      <td>5.700000e+17</td>\n",
       "      <td>NaN</td>\n",
       "      <td>Eastern Time (US &amp; Canada)</td>\n",
       "    </tr>\n",
       "    <tr>\n",
       "      <th>1</th>\n",
       "      <td>681448150</td>\n",
       "      <td>2/25/2015 05:22:10</td>\n",
       "      <td>False</td>\n",
       "      <td>1575093916</td>\n",
       "      <td>NaN</td>\n",
       "      <td>2/25/2015 05:19:59</td>\n",
       "      <td>False</td>\n",
       "      <td>prodege</td>\n",
       "      <td>0.8919</td>\n",
       "      <td>1908948</td>\n",
       "      <td>...</td>\n",
       "      <td>NaN</td>\n",
       "      <td>cairdin</td>\n",
       "      <td>NaN</td>\n",
       "      <td>0</td>\n",
       "      <td>@VirginAmerica What @dhepburn said.</td>\n",
       "      <td>NaN</td>\n",
       "      <td>24/2/2015 11:35</td>\n",
       "      <td>5.700000e+17</td>\n",
       "      <td>NaN</td>\n",
       "      <td>Eastern Time (US &amp; Canada)</td>\n",
       "    </tr>\n",
       "    <tr>\n",
       "      <th>2</th>\n",
       "      <td>681448150</td>\n",
       "      <td>2/25/2015 05:24:40</td>\n",
       "      <td>False</td>\n",
       "      <td>1575095606</td>\n",
       "      <td>NaN</td>\n",
       "      <td>2/25/2015 05:20:10</td>\n",
       "      <td>False</td>\n",
       "      <td>clixsense</td>\n",
       "      <td>0.7222</td>\n",
       "      <td>31396033</td>\n",
       "      <td>...</td>\n",
       "      <td>NaN</td>\n",
       "      <td>cairdin</td>\n",
       "      <td>NaN</td>\n",
       "      <td>0</td>\n",
       "      <td>@VirginAmerica What @dhepburn said.</td>\n",
       "      <td>NaN</td>\n",
       "      <td>24/2/2015 11:35</td>\n",
       "      <td>5.700000e+17</td>\n",
       "      <td>NaN</td>\n",
       "      <td>Eastern Time (US &amp; Canada)</td>\n",
       "    </tr>\n",
       "    <tr>\n",
       "      <th>3</th>\n",
       "      <td>681448153</td>\n",
       "      <td>2/25/2015 01:43:24</td>\n",
       "      <td>False</td>\n",
       "      <td>1574913129</td>\n",
       "      <td>NaN</td>\n",
       "      <td>2/25/2015 01:40:59</td>\n",
       "      <td>False</td>\n",
       "      <td>neodev</td>\n",
       "      <td>0.8966</td>\n",
       "      <td>31346116</td>\n",
       "      <td>...</td>\n",
       "      <td>NaN</td>\n",
       "      <td>jnardino</td>\n",
       "      <td>NaN</td>\n",
       "      <td>0</td>\n",
       "      <td>@VirginAmerica plus you've added commercials t...</td>\n",
       "      <td>NaN</td>\n",
       "      <td>24/2/2015 11:15</td>\n",
       "      <td>5.700000e+17</td>\n",
       "      <td>NaN</td>\n",
       "      <td>Pacific Time (US &amp; Canada)</td>\n",
       "    </tr>\n",
       "    <tr>\n",
       "      <th>4</th>\n",
       "      <td>681448153</td>\n",
       "      <td>2/25/2015 01:43:34</td>\n",
       "      <td>False</td>\n",
       "      <td>1574913225</td>\n",
       "      <td>NaN</td>\n",
       "      <td>2/25/2015 01:40:56</td>\n",
       "      <td>False</td>\n",
       "      <td>neodev</td>\n",
       "      <td>0.8108</td>\n",
       "      <td>31452413</td>\n",
       "      <td>...</td>\n",
       "      <td>NaN</td>\n",
       "      <td>jnardino</td>\n",
       "      <td>NaN</td>\n",
       "      <td>0</td>\n",
       "      <td>@VirginAmerica plus you've added commercials t...</td>\n",
       "      <td>NaN</td>\n",
       "      <td>24/2/2015 11:15</td>\n",
       "      <td>5.700000e+17</td>\n",
       "      <td>NaN</td>\n",
       "      <td>Pacific Time (US &amp; Canada)</td>\n",
       "    </tr>\n",
       "  </tbody>\n",
       "</table>\n",
       "<p>5 rows × 27 columns</p>\n",
       "</div>"
      ],
      "text/plain": [
       "    _unit_id         _created_at  _golden         _id _missed  \\\n",
       "0  681448150  2/25/2015 04:52:40    False  1575073003     NaN   \n",
       "1  681448150  2/25/2015 05:22:10    False  1575093916     NaN   \n",
       "2  681448150  2/25/2015 05:24:40    False  1575095606     NaN   \n",
       "3  681448153  2/25/2015 01:43:24    False  1574913129     NaN   \n",
       "4  681448153  2/25/2015 01:43:34    False  1574913225     NaN   \n",
       "\n",
       "          _started_at  _tainted   _channel  _trust  _worker_id  ...  \\\n",
       "0  2/25/2015 04:49:12     False      elite  0.8108    31110645  ...   \n",
       "1  2/25/2015 05:19:59     False    prodege  0.8919     1908948  ...   \n",
       "2  2/25/2015 05:20:10     False  clixsense  0.7222    31396033  ...   \n",
       "3  2/25/2015 01:40:59     False     neodev  0.8966    31346116  ...   \n",
       "4  2/25/2015 01:40:56     False     neodev  0.8108    31452413  ...   \n",
       "\n",
       "  airline_sentiment_gold      name negativereason_gold retweet_count  \\\n",
       "0                    NaN   cairdin                 NaN             0   \n",
       "1                    NaN   cairdin                 NaN             0   \n",
       "2                    NaN   cairdin                 NaN             0   \n",
       "3                    NaN  jnardino                 NaN             0   \n",
       "4                    NaN  jnardino                 NaN             0   \n",
       "\n",
       "                                                text tweet_coord  \\\n",
       "0                @VirginAmerica What @dhepburn said.         NaN   \n",
       "1                @VirginAmerica What @dhepburn said.         NaN   \n",
       "2                @VirginAmerica What @dhepburn said.         NaN   \n",
       "3  @VirginAmerica plus you've added commercials t...         NaN   \n",
       "4  @VirginAmerica plus you've added commercials t...         NaN   \n",
       "\n",
       "     tweet_created      tweet_id tweet_location               user_timezone  \n",
       "0  24/2/2015 11:35  5.700000e+17            NaN  Eastern Time (US & Canada)  \n",
       "1  24/2/2015 11:35  5.700000e+17            NaN  Eastern Time (US & Canada)  \n",
       "2  24/2/2015 11:35  5.700000e+17            NaN  Eastern Time (US & Canada)  \n",
       "3  24/2/2015 11:15  5.700000e+17            NaN  Pacific Time (US & Canada)  \n",
       "4  24/2/2015 11:15  5.700000e+17            NaN  Pacific Time (US & Canada)  \n",
       "\n",
       "[5 rows x 27 columns]"
      ]
     },
     "execution_count": 20,
     "metadata": {},
     "output_type": "execute_result"
    }
   ],
   "source": [
    "df = pd.read_csv('./Twitter_Airline Dataset/combined.csv').drop_duplicates()\n",
    "df.head()"
   ]
  },
  {
   "cell_type": "code",
   "execution_count": 21,
   "metadata": {},
   "outputs": [
    {
     "name": "stdout",
     "output_type": "stream",
     "text": [
      "(58882, 27)\n"
     ]
    }
   ],
   "source": [
    "df_deduplicated = df.drop_duplicates(subset=['text', '_id'])\n",
    "print(df_deduplicated.shape)"
   ]
  },
  {
   "cell_type": "code",
   "execution_count": 22,
   "metadata": {},
   "outputs": [
    {
     "data": {
      "text/plain": [
       "_missed                   57005\n",
       "_country                    212\n",
       "_region                    9680\n",
       "_city                      9831\n",
       "negativereason            21286\n",
       "airline_sentiment_gold    46288\n",
       "negativereason_gold       48989\n",
       "tweet_coord               54716\n",
       "tweet_location            19279\n",
       "user_timezone             18882\n",
       "dtype: int64"
      ]
     },
     "execution_count": 22,
     "metadata": {},
     "output_type": "execute_result"
    }
   ],
   "source": [
    "df_deduplicated.isnull().sum()[df.isnull().sum() != 0]"
   ]
  },
  {
   "cell_type": "markdown",
   "metadata": {},
   "source": [
    "### Comparing airline_sentiment and airline_sentiment_golden"
   ]
  },
  {
   "cell_type": "code",
   "execution_count": 23,
   "metadata": {},
   "outputs": [
    {
     "data": {
      "text/plain": [
       "True"
      ]
     },
     "execution_count": 23,
     "metadata": {},
     "output_type": "execute_result"
    }
   ],
   "source": [
    "\n",
    "len(df_deduplicated) == df_deduplicated.airline_sentiment.value_counts().sum()"
   ]
  },
  {
   "cell_type": "code",
   "execution_count": 24,
   "metadata": {},
   "outputs": [
    {
     "data": {
      "text/plain": [
       "False"
      ]
     },
     "execution_count": 24,
     "metadata": {},
     "output_type": "execute_result"
    }
   ],
   "source": [
    "len(df_deduplicated) == df_deduplicated.airline_sentiment_gold.value_counts().sum()"
   ]
  },
  {
   "cell_type": "code",
   "execution_count": 25,
   "metadata": {},
   "outputs": [
    {
     "name": "stdout",
     "output_type": "stream",
     "text": [
      "Number of matching values: 12107\n",
      "Number of rows with non-null 'airline_sentiment_gold': 12594\n"
     ]
    }
   ],
   "source": [
    "# Count the number of matching values between 'airline_sentiment' and 'airline_sentiment_gold'\n",
    "matching_values_count = df_deduplicated[df_deduplicated['airline_sentiment_gold'].notnull() & (df_deduplicated['airline_sentiment_gold'] == df_deduplicated['airline_sentiment'])].shape[0]\n",
    "\n",
    "print(\"Number of matching values:\", matching_values_count)\n",
    "print(\"Number of rows with non-null 'airline_sentiment_gold':\", df_deduplicated['airline_sentiment_gold'].notnull().sum())\n"
   ]
  },
  {
   "cell_type": "code",
   "execution_count": 26,
   "metadata": {},
   "outputs": [
    {
     "data": {
      "text/html": [
       "<div>\n",
       "<style scoped>\n",
       "    .dataframe tbody tr th:only-of-type {\n",
       "        vertical-align: middle;\n",
       "    }\n",
       "\n",
       "    .dataframe tbody tr th {\n",
       "        vertical-align: top;\n",
       "    }\n",
       "\n",
       "    .dataframe thead th {\n",
       "        text-align: right;\n",
       "    }\n",
       "</style>\n",
       "<table border=\"1\" class=\"dataframe\">\n",
       "  <thead>\n",
       "    <tr style=\"text-align: right;\">\n",
       "      <th></th>\n",
       "      <th>airline_sentiment_gold</th>\n",
       "      <th>airline_sentiment</th>\n",
       "    </tr>\n",
       "  </thead>\n",
       "  <tbody>\n",
       "    <tr>\n",
       "      <th>3926</th>\n",
       "      <td>negative</td>\n",
       "      <td>positive</td>\n",
       "    </tr>\n",
       "    <tr>\n",
       "      <th>4098</th>\n",
       "      <td>negative</td>\n",
       "      <td>positive</td>\n",
       "    </tr>\n",
       "    <tr>\n",
       "      <th>6523</th>\n",
       "      <td>negative</td>\n",
       "      <td>neutral</td>\n",
       "    </tr>\n",
       "    <tr>\n",
       "      <th>6921</th>\n",
       "      <td>neutral</td>\n",
       "      <td>positive</td>\n",
       "    </tr>\n",
       "    <tr>\n",
       "      <th>6932</th>\n",
       "      <td>neutral</td>\n",
       "      <td>positive</td>\n",
       "    </tr>\n",
       "    <tr>\n",
       "      <th>...</th>\n",
       "      <td>...</td>\n",
       "      <td>...</td>\n",
       "    </tr>\n",
       "    <tr>\n",
       "      <th>47979</th>\n",
       "      <td>negative</td>\n",
       "      <td>neutral</td>\n",
       "    </tr>\n",
       "    <tr>\n",
       "      <th>47983</th>\n",
       "      <td>negative</td>\n",
       "      <td>neutral</td>\n",
       "    </tr>\n",
       "    <tr>\n",
       "      <th>47995</th>\n",
       "      <td>negative</td>\n",
       "      <td>neutral</td>\n",
       "    </tr>\n",
       "    <tr>\n",
       "      <th>71189</th>\n",
       "      <td>positive</td>\n",
       "      <td>negative</td>\n",
       "    </tr>\n",
       "    <tr>\n",
       "      <th>74174</th>\n",
       "      <td>negative</td>\n",
       "      <td>neutral</td>\n",
       "    </tr>\n",
       "  </tbody>\n",
       "</table>\n",
       "<p>487 rows × 2 columns</p>\n",
       "</div>"
      ],
      "text/plain": [
       "      airline_sentiment_gold airline_sentiment\n",
       "3926                negative          positive\n",
       "4098                negative          positive\n",
       "6523                negative           neutral\n",
       "6921                 neutral          positive\n",
       "6932                 neutral          positive\n",
       "...                      ...               ...\n",
       "47979               negative           neutral\n",
       "47983               negative           neutral\n",
       "47995               negative           neutral\n",
       "71189               positive          negative\n",
       "74174               negative           neutral\n",
       "\n",
       "[487 rows x 2 columns]"
      ]
     },
     "execution_count": 26,
     "metadata": {},
     "output_type": "execute_result"
    }
   ],
   "source": [
    "df_deduplicated[(df_deduplicated['airline_sentiment_gold'] != df_deduplicated['airline_sentiment']) & (df_deduplicated['airline_sentiment_gold'].notna())][[\"airline_sentiment_gold\", \"airline_sentiment\"]]"
   ]
  },
  {
   "cell_type": "markdown",
   "metadata": {},
   "source": [
    "Since there is a discrepency between the airline_sentiment and airline_sentiment_gold, if the airline_sentiment_gold values are present, they will be replaced to fill up the airline_sentiment"
   ]
  },
  {
   "cell_type": "markdown",
   "metadata": {},
   "source": [
    "### Comparing negativereason and negativereason_gold"
   ]
  },
  {
   "cell_type": "code",
   "execution_count": 27,
   "metadata": {},
   "outputs": [
    {
     "data": {
      "text/plain": [
       "array([nan, 'badflight', 'CSProblem', 'canttell', 'late', 'airplanestaff',\n",
       "       'booking', 'lostluggae', 'cancel', 'damagedluggage', 'longlines'],\n",
       "      dtype=object)"
      ]
     },
     "execution_count": 27,
     "metadata": {},
     "output_type": "execute_result"
    }
   ],
   "source": [
    "df_deduplicated.negativereason.unique()"
   ]
  },
  {
   "cell_type": "code",
   "execution_count": 28,
   "metadata": {},
   "outputs": [
    {
     "data": {
      "text/plain": [
       "array([nan, 'late\\r\\nairplanestaff', 'late\\r\\nlostluggae', 'late',\n",
       "       'CSProblem', 'canttell', 'cancel\\r\\nCSProblem', 'cancel',\n",
       "       'badflight', 'lostluggae\\r\\ndamagedluggage', 'late\\r\\ncancel',\n",
       "       'airplanestaff', 'CSProblem\\r\\nlostluggae',\n",
       "       'CSProblem\\r\\ncanttell'], dtype=object)"
      ]
     },
     "execution_count": 28,
     "metadata": {},
     "output_type": "execute_result"
    }
   ],
   "source": [
    "df_deduplicated.negativereason_gold.unique()"
   ]
  },
  {
   "cell_type": "code",
   "execution_count": 29,
   "metadata": {},
   "outputs": [
    {
     "name": "stderr",
     "output_type": "stream",
     "text": [
      "C:\\Users\\Jurgen\\AppData\\Local\\Temp\\ipykernel_11596\\872523559.py:1: SettingWithCopyWarning: \n",
      "A value is trying to be set on a copy of a slice from a DataFrame.\n",
      "Try using .loc[row_indexer,col_indexer] = value instead\n",
      "\n",
      "See the caveats in the documentation: https://pandas.pydata.org/pandas-docs/stable/user_guide/indexing.html#returning-a-view-versus-a-copy\n",
      "  df_deduplicated.negativereason_gold = df.negativereason_gold.str.strip().str.replace('\\r\\n', '&')\n"
     ]
    }
   ],
   "source": [
    "df_deduplicated.negativereason_gold = df.negativereason_gold.str.strip().str.replace('\\r\\n', '&')"
   ]
  },
  {
   "cell_type": "code",
   "execution_count": 30,
   "metadata": {},
   "outputs": [
    {
     "data": {
      "text/plain": [
       "array([nan, 'late&airplanestaff', 'late&lostluggae', 'late', 'CSProblem',\n",
       "       'canttell', 'cancel&CSProblem', 'cancel', 'badflight',\n",
       "       'lostluggae&damagedluggage', 'late&cancel', 'airplanestaff',\n",
       "       'CSProblem&lostluggae', 'CSProblem&canttell'], dtype=object)"
      ]
     },
     "execution_count": 30,
     "metadata": {},
     "output_type": "execute_result"
    }
   ],
   "source": [
    "df_deduplicated.negativereason_gold.unique()"
   ]
  },
  {
   "cell_type": "code",
   "execution_count": 41,
   "metadata": {},
   "outputs": [
    {
     "name": "stderr",
     "output_type": "stream",
     "text": [
      "C:\\Users\\Jurgen\\AppData\\Local\\Temp\\ipykernel_11596\\1710278856.py:2: SettingWithCopyWarning: \n",
      "A value is trying to be set on a copy of a slice from a DataFrame.\n",
      "Try using .loc[row_indexer,col_indexer] = value instead\n",
      "\n",
      "See the caveats in the documentation: https://pandas.pydata.org/pandas-docs/stable/user_guide/indexing.html#returning-a-view-versus-a-copy\n",
      "  df_deduplicated[['negativereason1', 'negativereason2']] = df_deduplicated.negativereason_gold.str.split('&', expand=True)\n"
     ]
    }
   ],
   "source": [
    "# negativereason_gold split by '&' and use the value in the firsts position as the new value for negativereason1 and the value in the second position as the new value for negativereason2 if it exists\n",
    "df_deduplicated[['negativereason1', 'negativereason2']] = df_deduplicated.negativereason_gold.str.split('&', expand=True)\n",
    "\n",
    "# If negativereason1 is null, use the value in negativereason\n",
    "df_deduplicated.loc[df_deduplicated.negativereason1.isnull(), 'negativereason1'] = df_deduplicated.negativereason"
   ]
  },
  {
   "cell_type": "code",
   "execution_count": 42,
   "metadata": {},
   "outputs": [
    {
     "data": {
      "text/plain": [
       "negativereason1\n",
       "CSProblem         13405\n",
       "late               6841\n",
       "canttell           4808\n",
       "cancel             4014\n",
       "lostluggae         2371\n",
       "badflight          2110\n",
       "airplanestaff      1754\n",
       "booking            1696\n",
       "longlines           659\n",
       "damagedluggage      219\n",
       "Name: count, dtype: int64"
      ]
     },
     "execution_count": 42,
     "metadata": {},
     "output_type": "execute_result"
    }
   ],
   "source": [
    "df_deduplicated.negativereason1.value_counts()"
   ]
  },
  {
   "cell_type": "code",
   "execution_count": 44,
   "metadata": {},
   "outputs": [
    {
     "data": {
      "text/plain": [
       "negativereason2\n",
       "CSProblem         604\n",
       "lostluggae        596\n",
       "damagedluggage    322\n",
       "airplanestaff     317\n",
       "canttell          314\n",
       "cancel            293\n",
       "Name: count, dtype: int64"
      ]
     },
     "execution_count": 44,
     "metadata": {},
     "output_type": "execute_result"
    }
   ],
   "source": [
    "df_deduplicated.negativereason2.value_counts()"
   ]
  },
  {
   "cell_type": "markdown",
   "metadata": {},
   "source": [
    "Suggestion: Seperate into 2 columns negativereason1 and negativereason2"
   ]
  },
  {
   "cell_type": "code",
   "execution_count": 25,
   "metadata": {},
   "outputs": [
    {
     "data": {
      "text/html": [
       "<div>\n",
       "<style scoped>\n",
       "    .dataframe tbody tr th:only-of-type {\n",
       "        vertical-align: middle;\n",
       "    }\n",
       "\n",
       "    .dataframe tbody tr th {\n",
       "        vertical-align: top;\n",
       "    }\n",
       "\n",
       "    .dataframe thead th {\n",
       "        text-align: right;\n",
       "    }\n",
       "</style>\n",
       "<table border=\"1\" class=\"dataframe\">\n",
       "  <thead>\n",
       "    <tr style=\"text-align: right;\">\n",
       "      <th></th>\n",
       "      <th>negativereason_gold</th>\n",
       "      <th>negativereason</th>\n",
       "    </tr>\n",
       "  </thead>\n",
       "  <tbody>\n",
       "    <tr>\n",
       "      <th>3858</th>\n",
       "      <td>late&amp;airplanestaff</td>\n",
       "      <td>late</td>\n",
       "    </tr>\n",
       "    <tr>\n",
       "      <th>3859</th>\n",
       "      <td>late&amp;airplanestaff</td>\n",
       "      <td>late</td>\n",
       "    </tr>\n",
       "    <tr>\n",
       "      <th>3860</th>\n",
       "      <td>late&amp;airplanestaff</td>\n",
       "      <td>late</td>\n",
       "    </tr>\n",
       "    <tr>\n",
       "      <th>3861</th>\n",
       "      <td>late&amp;airplanestaff</td>\n",
       "      <td>late</td>\n",
       "    </tr>\n",
       "    <tr>\n",
       "      <th>3862</th>\n",
       "      <td>late&amp;airplanestaff</td>\n",
       "      <td>CSProblem</td>\n",
       "    </tr>\n",
       "    <tr>\n",
       "      <th>...</th>\n",
       "      <td>...</td>\n",
       "      <td>...</td>\n",
       "    </tr>\n",
       "    <tr>\n",
       "      <th>74269</th>\n",
       "      <td>CSProblem</td>\n",
       "      <td>booking</td>\n",
       "    </tr>\n",
       "    <tr>\n",
       "      <th>74300</th>\n",
       "      <td>CSProblem</td>\n",
       "      <td>longlines</td>\n",
       "    </tr>\n",
       "    <tr>\n",
       "      <th>74303</th>\n",
       "      <td>CSProblem</td>\n",
       "      <td>booking</td>\n",
       "    </tr>\n",
       "    <tr>\n",
       "      <th>101686</th>\n",
       "      <td>CSProblem</td>\n",
       "      <td>late</td>\n",
       "    </tr>\n",
       "    <tr>\n",
       "      <th>101688</th>\n",
       "      <td>CSProblem</td>\n",
       "      <td>booking</td>\n",
       "    </tr>\n",
       "  </tbody>\n",
       "</table>\n",
       "<p>3798 rows × 2 columns</p>\n",
       "</div>"
      ],
      "text/plain": [
       "       negativereason_gold negativereason\n",
       "3858    late&airplanestaff           late\n",
       "3859    late&airplanestaff           late\n",
       "3860    late&airplanestaff           late\n",
       "3861    late&airplanestaff           late\n",
       "3862    late&airplanestaff      CSProblem\n",
       "...                    ...            ...\n",
       "74269            CSProblem        booking\n",
       "74300            CSProblem      longlines\n",
       "74303            CSProblem        booking\n",
       "101686           CSProblem           late\n",
       "101688           CSProblem        booking\n",
       "\n",
       "[3798 rows x 2 columns]"
      ]
     },
     "execution_count": 25,
     "metadata": {},
     "output_type": "execute_result"
    }
   ],
   "source": [
    "df_deduplicated[(df_deduplicated['negativereason_gold'] != df_deduplicated['negativereason']) & (df_deduplicated['negativereason_gold'].notna())][[\"negativereason_gold\", \"negativereason\"]]"
   ]
  },
  {
   "cell_type": "markdown",
   "metadata": {},
   "source": [
    "### Analysing of missing geographical columns - _country, tweet_location and user_timezone"
   ]
  },
  {
   "cell_type": "code",
   "execution_count": 26,
   "metadata": {},
   "outputs": [
    {
     "name": "stderr",
     "output_type": "stream",
     "text": [
      "C:\\Users\\Jurgen\\AppData\\Local\\Temp\\ipykernel_29500\\2230009250.py:2: SettingWithCopyWarning: \n",
      "A value is trying to be set on a copy of a slice from a DataFrame.\n",
      "Try using .loc[row_indexer,col_indexer] = value instead\n",
      "\n",
      "See the caveats in the documentation: https://pandas.pydata.org/pandas-docs/stable/user_guide/indexing.html#returning-a-view-versus-a-copy\n",
      "  df_deduplicated['airline_sentiment'] = df_deduplicated['airline_sentiment_gold'].where(df_deduplicated['airline_sentiment_gold'].notnull(), df_deduplicated['airline_sentiment'])\n"
     ]
    }
   ],
   "source": [
    "# Replacing the 'airline_sentiment' column with the 'airline_sentiment_gold' column where the latter is not null\n",
    "df_deduplicated['airline_sentiment'] = df_deduplicated['airline_sentiment_gold'].where(df_deduplicated['airline_sentiment_gold'].notnull(), df_deduplicated['airline_sentiment'])"
   ]
  },
  {
   "cell_type": "code",
   "execution_count": 27,
   "metadata": {},
   "outputs": [
    {
     "data": {
      "text/plain": [
       "array(['IND', 'CAN', 'MEX', 'ITA', 'CHL', 'TUR', 'HUN', 'GBR', 'MYS',\n",
       "       'VEN', 'BRA', 'USA', 'PRT', 'ESP', 'HRV', 'BIH', 'VNM', 'SRB',\n",
       "       'DEU', 'EGY', 'MKD', 'IDN', 'RUS', 'PHL', 'ARG', 'SGP', 'MAR',\n",
       "       'ISR', 'BGD', 'ARE', 'PAK', 'ROU', 'URY', 'UGA', 'HKG', 'JPN',\n",
       "       'FIN', 'NLD', 'CHE', 'GRC', 'PER', 'BEL', 'AUS', 'BGR', 'FRA',\n",
       "       'EST', 'POL', 'IRL', nan, 'COL', 'BHS', 'SWE', 'AUT', 'ZAF', 'LVA',\n",
       "       'DOM', 'DZA', 'TZA', 'NPL', 'JOR', 'SLV', 'CYP', 'PRI', 'UKR',\n",
       "       'KEN', 'SVK', 'KWT'], dtype=object)"
      ]
     },
     "execution_count": 27,
     "metadata": {},
     "output_type": "execute_result"
    }
   ],
   "source": [
    "df_deduplicated._country.unique()"
   ]
  },
  {
   "cell_type": "code",
   "execution_count": 28,
   "metadata": {},
   "outputs": [
    {
     "data": {
      "text/plain": [
       "array(['2', 'ON', '19', '18', '12', '34', '5', nan, '14', '27', 'OH',\n",
       "       '17', '56', '54', '21', 'NV', '51', '44', '13', '1', '52', '25',\n",
       "       '39', 'H9', '41', '67', '22', '16', '66', 'B7', '0', 'IL', '10',\n",
       "       'D9', '4', '45', 'M3', '81', '8', 'BC', '38', '37', '7', '30',\n",
       "       '47', 'L9', '15', '48', 'TX', 'MA', 'K7', '36', 'C9', '49', '6',\n",
       "       'G6', 'NS', '28', '35', '11', '31', '40', 'B4', '78', '3', 'MD',\n",
       "       'K1', 'E3', 'M9', '58', '23', 'CA', '20', 'F2', 'V1', '55', '29',\n",
       "       '72', 'AB', '98', 'B3', 'AK', '77', '24', 'K2', '9', '68', '26',\n",
       "       'B8', '42', 'L6', 'FL', 'C3', 'KS', 'AL', '71', 'A3', 'E4', '74',\n",
       "       'MI', '43'], dtype=object)"
      ]
     },
     "execution_count": 28,
     "metadata": {},
     "output_type": "execute_result"
    }
   ],
   "source": [
    "df_deduplicated._region.unique()"
   ]
  },
  {
   "cell_type": "code",
   "execution_count": 29,
   "metadata": {},
   "outputs": [
    {
     "data": {
      "text/plain": [
       "array([nan, 'Lets Play', 'San Francisco CA', ...,\n",
       "       '??T: 41.498967,2.186957', 'Ciudad Ju??rez MX. [CJS/MMCS]',\n",
       "       \"??? Chicago'ish ???\"], dtype=object)"
      ]
     },
     "execution_count": 29,
     "metadata": {},
     "output_type": "execute_result"
    }
   ],
   "source": [
    "df_deduplicated.tweet_location.unique()"
   ]
  },
  {
   "cell_type": "code",
   "execution_count": 30,
   "metadata": {},
   "outputs": [
    {
     "data": {
      "text/plain": [
       "array(['Eastern Time (US & Canada)', 'Pacific Time (US & Canada)',\n",
       "       'Central Time (US & Canada)', 'America/New_York',\n",
       "       'Atlantic Time (Canada)', 'Quito', nan,\n",
       "       'Mountain Time (US & Canada)', 'Vienna', 'Caracas', 'Kuala Lumpur',\n",
       "       'Brisbane', 'Arizona', 'London', 'Tehran', 'Alaska', 'Sydney',\n",
       "       'Irkutsk', 'Santiago', 'Amsterdam', 'Tijuana', 'Abu Dhabi',\n",
       "       'Central America', 'Edinburgh', 'Jerusalem', 'Hawaii', 'Paris',\n",
       "       'Guam', 'New Delhi', 'Stockholm', 'America/Chicago', 'Berlin',\n",
       "       'Madrid', 'Athens', 'Brussels', 'Taipei', 'Rome', 'Beijing',\n",
       "       'Mexico City', 'Bern', 'Singapore', 'Indiana (East)', 'Melbourne',\n",
       "       'Saskatchewan', 'Casablanca', 'Brasilia', 'Kyiv', 'Bucharest',\n",
       "       'Greenland', 'Prague', 'New Caledonia', 'Bogota', 'Seoul',\n",
       "       'Sarajevo', 'Wellington', 'Bangkok', 'Warsaw', 'Copenhagen',\n",
       "       'Hong Kong', 'Guadalajara', 'Mid-Atlantic', 'Mazatlan',\n",
       "       'Buenos Aires', 'America/Los_Angeles', 'Dublin', 'Lisbon',\n",
       "       'Newfoundland', 'Monterrey', 'Tokyo', 'America/Detroit',\n",
       "       'Midway Island', 'Istanbul', 'Solomon Is.', 'America/Atikokan',\n",
       "       'Adelaide', 'Nairobi', 'EST', 'Lima', 'Islamabad', 'Helsinki',\n",
       "       'Pretoria', 'West Central Africa', 'America/Boise', 'Canberra',\n",
       "       'Perth', 'La Paz'], dtype=object)"
      ]
     },
     "execution_count": 30,
     "metadata": {},
     "output_type": "execute_result"
    }
   ],
   "source": [
    "df_deduplicated.user_timezone.unique()"
   ]
  },
  {
   "cell_type": "code",
   "execution_count": 31,
   "metadata": {},
   "outputs": [
    {
     "data": {
      "text/plain": [
       "array(['Hyderabad', 'Toronto', 'Monterrey', 'Bastia', 'Santiago',\n",
       "       'Istanbul', 'Budapest', nan, 'Kuala Lumpur', 'São Paulo',\n",
       "       'Fairfield', 'San Nicolás De Los Garza', 'Vila Nova De Gaia',\n",
       "       'Barcelona', 'Mora', 'Zagreb', 'Doboj', 'Reno',\n",
       "       'Las Torres De Cotillas', 'Hanoi', 'Modugno', 'Zenica', 'Zaragoza',\n",
       "       'Caracas', 'Torrelavega', 'London', 'Skopje', 'Nguyên',\n",
       "       'Querétaro', 'Mumbai', 'Saint Petersburg', 'Mollet Del Vallès',\n",
       "       'Cebu', 'Punta Alta', 'Singapore', 'Sarajevo', 'Mount Vernon',\n",
       "       'Turin', 'Macerata', 'Pune', 'Mandaluyong', 'Jakarta',\n",
       "       'Casablanca', 'Bridgwater', 'Tel Aviv', 'Salvador', 'Udupi', 'Hue',\n",
       "       'Dhaka', 'Abu Dhabi', 'Karachi', 'Malang', 'Cluj-napoca',\n",
       "       'Burnaby', 'Vancouver', 'Montevideo', 'Makassar', 'Bokaro',\n",
       "       'Loures', 'Kampala', 'Champa', 'Kottayam', 'Chennai', 'Semarang',\n",
       "       'Speyer', 'Ajax', 'Tangerang', 'San Antonio', 'Central District',\n",
       "       'Sheffield', 'Lahore', 'Petaling Jaya', 'Split', 'Moscow',\n",
       "       'Tijuana', 'Belgrade', 'Alibag', 'Yogyakarta', 'Dallas',\n",
       "       'Cambridge', 'Rome', 'Reading', 'Barquisimeto', 'Helsinki',\n",
       "       'Vinkovci', 'Sevilla', 'Varanasi', 'Carlisle', 'Rabat', 'Parana',\n",
       "       'Manila', 'Porto', 'Meppel', 'Oldenburg', 'Pasig City', 'Hull',\n",
       "       'Banja Luka', 'Spring', 'Bangalore', 'Mabou', 'Wetzikon',\n",
       "       'Kolkata', 'Athens', 'Sudbury', 'Scarborough', 'Lima', 'New Delhi',\n",
       "       'Nürnberg', 'San Juan', 'Brussels', 'Imphal', 'Burlington',\n",
       "       'Sydney', 'Bandung', 'Mérida', 'Dobrich', 'Ottawa', 'Ma On Shan',\n",
       "       'La Madeleine', 'Tallinn', 'Warsaw', 'Nimy', 'Baltimore',\n",
       "       'Alba Iulia', 'Las Piñas City', 'Kanpur', 'Prilep', 'Stafford',\n",
       "       'Nova Cruz', 'Adana', 'Antipolo', 'Santiago De Compostela',\n",
       "       'Grumo Appula', 'Aguascalientes', 'Iasi', 'Montana', 'Fremont',\n",
       "       'Kelowna', 'Ho Chi Minh City', 'Zepce', 'Cascina', 'Delhi',\n",
       "       'Quezon City', 'Tuzla', 'Bogotá', 'Bekasi', 'Balasore',\n",
       "       'Diyarbakir', 'A Coruña', 'Timisoara', 'Terrace', 'Santos', 'Ipoh',\n",
       "       'Luthrie', 'Valladolid', 'Baia Mare', 'Madrid', 'Miri', 'Campinas',\n",
       "       'Nassau', 'Warangal', 'Malmö', 'Wroclaw', 'Tomelloso', 'Islamabad',\n",
       "       'Tarragona', 'Gabrovo', 'Beaumont', 'Castanet-tolosan',\n",
       "       'Anchorage', 'Santander', 'Kraków', 'Zalaegerszeg', 'Visoko',\n",
       "       'Shah Alam', 'Agadir', 'Galati', 'Novi Sad', 'Cancún', 'Puebla',\n",
       "       'Barceloneta', 'Canoas', 'Kidlington', 'San Justo', 'Ituzaingo',\n",
       "       'Varazdin', 'Calgary', 'Bogor', 'Vila Velha', 'Valencia', 'Vienna',\n",
       "       'Ankara', 'Surabaya', 'Ludwigsburg', 'Pretoria', 'Gijón', 'Riga',\n",
       "       'Ramat Gan', 'Mexico', 'Poona', 'Ponta Delgada', 'Lisle',\n",
       "       'Acapulco', 'Nogales', 'Mianwali', 'Faro', 'Nice', 'Sofia',\n",
       "       'Surrey', 'Thrissur', 'Santo Domingo', 'Surat', 'Dar Es Salaam',\n",
       "       'Thessaloníki', 'Kathmandu', 'Dong Nai', 'Natal', 'Denpasar',\n",
       "       'Amman', 'Chicago', 'Olhão', 'Shrewsbury', 'Hasselt', 'Legionowo',\n",
       "       'San Salvador', 'Abbottabad', 'Cavite', 'Meycauayan', 'Bacau',\n",
       "       'Rosario', 'Spring Hill', 'Limassol', 'Jaipur', 'San German',\n",
       "       'Nicosia', 'Rawalpindi', 'San Luis Potosí', 'Zavidovici', 'Kiev',\n",
       "       'North Bay', 'Pampanga', 'Rio De Janeiro', 'Málaga', 'Shawnee',\n",
       "       'Buenos Aires', 'Nairobi', 'Velke Kapusany', 'Mississauga',\n",
       "       'Dunaújváros', 'Maravilha', 'Amadora', 'Nis', 'Scottsboro',\n",
       "       'Capoterra', 'Acerra', 'Plovdiv', 'Debrecen', 'Konya', 'Ourém',\n",
       "       'Kuwait', 'Gracanica', 'Barnsley', 'Dublin', 'Lucca',\n",
       "       'Belo Horizonte', 'Yekaterinburg', 'Hockley', 'Sarón', 'Balikesir',\n",
       "       'Lodz', 'Marktoberdorf', 'Köln', 'Flint', 'Mumpf', 'Níkaia',\n",
       "       'Thane', 'Allahabad', 'Kollam', 'Haskovo', 'Vashi', 'Quer??taro',\n",
       "       'San Nicol??s De Los Garza', 'Mollet Del Vall??s', 'Bogot??',\n",
       "       'Nguy??n', 'S??o Paulo', 'Malm??', 'Las Pi??as City', 'N??rnberg',\n",
       "       'M??rida', 'A Coru??a', 'Gij??n', 'Krak??w', 'Canc??n', 'K??ln',\n",
       "       'Sar??n', 'San Luis Potos??', 'M??laga', 'Duna??jv??ros', 'Our??m'],\n",
       "      dtype=object)"
      ]
     },
     "execution_count": 31,
     "metadata": {},
     "output_type": "execute_result"
    }
   ],
   "source": [
    "df_deduplicated._city.unique()"
   ]
  },
  {
   "cell_type": "code",
   "execution_count": 32,
   "metadata": {},
   "outputs": [
    {
     "name": "stdout",
     "output_type": "stream",
     "text": [
      "Perccentage of 'tweet_coord' in the df: 0.0014925319584817793\n"
     ]
    }
   ],
   "source": [
    "df_deduplicated.tweet_coord.nunique()\n",
    "print(\"Perccentage of 'tweet_coord' in the df:\", df.tweet_coord.nunique()/len(df))"
   ]
  },
  {
   "cell_type": "markdown",
   "metadata": {},
   "source": [
    "As there are too many missing values in the tweet_coord column, it will be best to omit the column"
   ]
  },
  {
   "cell_type": "code",
   "execution_count": 33,
   "metadata": {},
   "outputs": [
    {
     "data": {
      "text/html": [
       "<div>\n",
       "<style scoped>\n",
       "    .dataframe tbody tr th:only-of-type {\n",
       "        vertical-align: middle;\n",
       "    }\n",
       "\n",
       "    .dataframe tbody tr th {\n",
       "        vertical-align: top;\n",
       "    }\n",
       "\n",
       "    .dataframe thead th {\n",
       "        text-align: right;\n",
       "    }\n",
       "</style>\n",
       "<table border=\"1\" class=\"dataframe\">\n",
       "  <thead>\n",
       "    <tr style=\"text-align: right;\">\n",
       "      <th></th>\n",
       "      <th>_country</th>\n",
       "      <th>_region</th>\n",
       "      <th>_city</th>\n",
       "      <th>tweet_location</th>\n",
       "      <th>user_timezone</th>\n",
       "      <th>tweet_coord</th>\n",
       "    </tr>\n",
       "  </thead>\n",
       "  <tbody>\n",
       "    <tr>\n",
       "      <th>594</th>\n",
       "      <td>PAK</td>\n",
       "      <td>4</td>\n",
       "      <td>Lahore</td>\n",
       "      <td>New York City</td>\n",
       "      <td>Eastern Time (US &amp; Canada)</td>\n",
       "      <td>NaN</td>\n",
       "    </tr>\n",
       "    <tr>\n",
       "      <th>595</th>\n",
       "      <td>IND</td>\n",
       "      <td>2</td>\n",
       "      <td>Hyderabad</td>\n",
       "      <td>New York City</td>\n",
       "      <td>Eastern Time (US &amp; Canada)</td>\n",
       "      <td>NaN</td>\n",
       "    </tr>\n",
       "    <tr>\n",
       "      <th>596</th>\n",
       "      <td>PHL</td>\n",
       "      <td>47</td>\n",
       "      <td>San Antonio</td>\n",
       "      <td>New York City</td>\n",
       "      <td>Eastern Time (US &amp; Canada)</td>\n",
       "      <td>NaN</td>\n",
       "    </tr>\n",
       "    <tr>\n",
       "      <th>921</th>\n",
       "      <td>TUR</td>\n",
       "      <td>21</td>\n",
       "      <td>Diyarbakir</td>\n",
       "      <td>New York City</td>\n",
       "      <td>Eastern Time (US &amp; Canada)</td>\n",
       "      <td>NaN</td>\n",
       "    </tr>\n",
       "    <tr>\n",
       "      <th>922</th>\n",
       "      <td>CAN</td>\n",
       "      <td>ON</td>\n",
       "      <td>Ajax</td>\n",
       "      <td>New York City</td>\n",
       "      <td>Eastern Time (US &amp; Canada)</td>\n",
       "      <td>NaN</td>\n",
       "    </tr>\n",
       "    <tr>\n",
       "      <th>...</th>\n",
       "      <td>...</td>\n",
       "      <td>...</td>\n",
       "      <td>...</td>\n",
       "      <td>...</td>\n",
       "      <td>...</td>\n",
       "      <td>...</td>\n",
       "    </tr>\n",
       "    <tr>\n",
       "      <th>82835</th>\n",
       "      <td>VNM</td>\n",
       "      <td>44</td>\n",
       "      <td>Hanoi</td>\n",
       "      <td>New York City</td>\n",
       "      <td>NaN</td>\n",
       "      <td>NaN</td>\n",
       "    </tr>\n",
       "    <tr>\n",
       "      <th>82836</th>\n",
       "      <td>IND</td>\n",
       "      <td>2</td>\n",
       "      <td>Hyderabad</td>\n",
       "      <td>New York City</td>\n",
       "      <td>NaN</td>\n",
       "      <td>NaN</td>\n",
       "    </tr>\n",
       "    <tr>\n",
       "      <th>83605</th>\n",
       "      <td>MEX</td>\n",
       "      <td>NaN</td>\n",
       "      <td>NaN</td>\n",
       "      <td>New York City</td>\n",
       "      <td>Eastern Time (US &amp; Canada)</td>\n",
       "      <td>NaN</td>\n",
       "    </tr>\n",
       "    <tr>\n",
       "      <th>83606</th>\n",
       "      <td>IND</td>\n",
       "      <td>16</td>\n",
       "      <td>Mumbai</td>\n",
       "      <td>New York City</td>\n",
       "      <td>Eastern Time (US &amp; Canada)</td>\n",
       "      <td>NaN</td>\n",
       "    </tr>\n",
       "    <tr>\n",
       "      <th>83607</th>\n",
       "      <td>BRA</td>\n",
       "      <td>22</td>\n",
       "      <td>Nova Cruz</td>\n",
       "      <td>New York City</td>\n",
       "      <td>Eastern Time (US &amp; Canada)</td>\n",
       "      <td>NaN</td>\n",
       "    </tr>\n",
       "  </tbody>\n",
       "</table>\n",
       "<p>300 rows × 6 columns</p>\n",
       "</div>"
      ],
      "text/plain": [
       "      _country _region        _city tweet_location  \\\n",
       "594        PAK       4       Lahore  New York City   \n",
       "595        IND       2    Hyderabad  New York City   \n",
       "596        PHL      47  San Antonio  New York City   \n",
       "921        TUR      21   Diyarbakir  New York City   \n",
       "922        CAN      ON         Ajax  New York City   \n",
       "...        ...     ...          ...            ...   \n",
       "82835      VNM      44        Hanoi  New York City   \n",
       "82836      IND       2    Hyderabad  New York City   \n",
       "83605      MEX     NaN          NaN  New York City   \n",
       "83606      IND      16       Mumbai  New York City   \n",
       "83607      BRA      22    Nova Cruz  New York City   \n",
       "\n",
       "                    user_timezone tweet_coord  \n",
       "594    Eastern Time (US & Canada)         NaN  \n",
       "595    Eastern Time (US & Canada)         NaN  \n",
       "596    Eastern Time (US & Canada)         NaN  \n",
       "921    Eastern Time (US & Canada)         NaN  \n",
       "922    Eastern Time (US & Canada)         NaN  \n",
       "...                           ...         ...  \n",
       "82835                         NaN         NaN  \n",
       "82836                         NaN         NaN  \n",
       "83605  Eastern Time (US & Canada)         NaN  \n",
       "83606  Eastern Time (US & Canada)         NaN  \n",
       "83607  Eastern Time (US & Canada)         NaN  \n",
       "\n",
       "[300 rows x 6 columns]"
      ]
     },
     "execution_count": 33,
     "metadata": {},
     "output_type": "execute_result"
    }
   ],
   "source": [
    "df_deduplicated[df_deduplicated.tweet_location == \"New York City\"][[\"_country\", \"_region\", \"_city\", \"tweet_location\", \"user_timezone\", \"tweet_coord\"]]"
   ]
  },
  {
   "cell_type": "code",
   "execution_count": 34,
   "metadata": {},
   "outputs": [
    {
     "data": {
      "text/html": [
       "<div>\n",
       "<style scoped>\n",
       "    .dataframe tbody tr th:only-of-type {\n",
       "        vertical-align: middle;\n",
       "    }\n",
       "\n",
       "    .dataframe tbody tr th {\n",
       "        vertical-align: top;\n",
       "    }\n",
       "\n",
       "    .dataframe thead th {\n",
       "        text-align: right;\n",
       "    }\n",
       "</style>\n",
       "<table border=\"1\" class=\"dataframe\">\n",
       "  <thead>\n",
       "    <tr style=\"text-align: right;\">\n",
       "      <th></th>\n",
       "      <th>_country</th>\n",
       "      <th>_region</th>\n",
       "      <th>_city</th>\n",
       "      <th>tweet_location</th>\n",
       "      <th>user_timezone</th>\n",
       "      <th>tweet_coord</th>\n",
       "    </tr>\n",
       "  </thead>\n",
       "  <tbody>\n",
       "    <tr>\n",
       "      <th>0</th>\n",
       "      <td>IND</td>\n",
       "      <td>2</td>\n",
       "      <td>Hyderabad</td>\n",
       "      <td>NaN</td>\n",
       "      <td>Eastern Time (US &amp; Canada)</td>\n",
       "      <td>NaN</td>\n",
       "    </tr>\n",
       "    <tr>\n",
       "      <th>13</th>\n",
       "      <td>IND</td>\n",
       "      <td>2</td>\n",
       "      <td>Hyderabad</td>\n",
       "      <td>NaN</td>\n",
       "      <td>Pacific Time (US &amp; Canada)</td>\n",
       "      <td>NaN</td>\n",
       "    </tr>\n",
       "    <tr>\n",
       "      <th>14</th>\n",
       "      <td>IND</td>\n",
       "      <td>NaN</td>\n",
       "      <td>NaN</td>\n",
       "      <td>NaN</td>\n",
       "      <td>Pacific Time (US &amp; Canada)</td>\n",
       "      <td>NaN</td>\n",
       "    </tr>\n",
       "    <tr>\n",
       "      <th>15</th>\n",
       "      <td>IND</td>\n",
       "      <td>NaN</td>\n",
       "      <td>NaN</td>\n",
       "      <td>NaN</td>\n",
       "      <td>Pacific Time (US &amp; Canada)</td>\n",
       "      <td>NaN</td>\n",
       "    </tr>\n",
       "    <tr>\n",
       "      <th>31</th>\n",
       "      <td>IND</td>\n",
       "      <td>NaN</td>\n",
       "      <td>NaN</td>\n",
       "      <td>1/1 loner squad</td>\n",
       "      <td>Eastern Time (US &amp; Canada)</td>\n",
       "      <td>NaN</td>\n",
       "    </tr>\n",
       "    <tr>\n",
       "      <th>...</th>\n",
       "      <td>...</td>\n",
       "      <td>...</td>\n",
       "      <td>...</td>\n",
       "      <td>...</td>\n",
       "      <td>...</td>\n",
       "      <td>...</td>\n",
       "    </tr>\n",
       "    <tr>\n",
       "      <th>110060</th>\n",
       "      <td>IND</td>\n",
       "      <td>2</td>\n",
       "      <td>Hyderabad</td>\n",
       "      <td>NYC</td>\n",
       "      <td>Santiago</td>\n",
       "      <td>NaN</td>\n",
       "    </tr>\n",
       "    <tr>\n",
       "      <th>110234</th>\n",
       "      <td>IND</td>\n",
       "      <td>16</td>\n",
       "      <td>Mumbai</td>\n",
       "      <td>Atlanta Ga &amp;&amp; Traveling</td>\n",
       "      <td>NaN</td>\n",
       "      <td>NaN</td>\n",
       "    </tr>\n",
       "    <tr>\n",
       "      <th>110510</th>\n",
       "      <td>IND</td>\n",
       "      <td>2</td>\n",
       "      <td>Hyderabad</td>\n",
       "      <td>?????SoFla?????</td>\n",
       "      <td>Atlantic Time (Canada)</td>\n",
       "      <td>NaN</td>\n",
       "    </tr>\n",
       "    <tr>\n",
       "      <th>110740</th>\n",
       "      <td>IND</td>\n",
       "      <td>NaN</td>\n",
       "      <td>NaN</td>\n",
       "      <td>NaN</td>\n",
       "      <td>NaN</td>\n",
       "      <td>NaN</td>\n",
       "    </tr>\n",
       "    <tr>\n",
       "      <th>111530</th>\n",
       "      <td>IND</td>\n",
       "      <td>2</td>\n",
       "      <td>Hyderabad</td>\n",
       "      <td>Washington, DC</td>\n",
       "      <td>Eastern Time (US &amp; Canada)</td>\n",
       "      <td>NaN</td>\n",
       "    </tr>\n",
       "  </tbody>\n",
       "</table>\n",
       "<p>8650 rows × 6 columns</p>\n",
       "</div>"
      ],
      "text/plain": [
       "       _country _region      _city           tweet_location  \\\n",
       "0           IND       2  Hyderabad                      NaN   \n",
       "13          IND       2  Hyderabad                      NaN   \n",
       "14          IND     NaN        NaN                      NaN   \n",
       "15          IND     NaN        NaN                      NaN   \n",
       "31          IND     NaN        NaN          1/1 loner squad   \n",
       "...         ...     ...        ...                      ...   \n",
       "110060      IND       2  Hyderabad                      NYC   \n",
       "110234      IND      16     Mumbai  Atlanta Ga && Traveling   \n",
       "110510      IND       2  Hyderabad        ?????SoFla?????   \n",
       "110740      IND     NaN        NaN                      NaN   \n",
       "111530      IND       2  Hyderabad           Washington, DC   \n",
       "\n",
       "                     user_timezone tweet_coord  \n",
       "0       Eastern Time (US & Canada)         NaN  \n",
       "13      Pacific Time (US & Canada)         NaN  \n",
       "14      Pacific Time (US & Canada)         NaN  \n",
       "15      Pacific Time (US & Canada)         NaN  \n",
       "31      Eastern Time (US & Canada)         NaN  \n",
       "...                            ...         ...  \n",
       "110060                    Santiago         NaN  \n",
       "110234                         NaN         NaN  \n",
       "110510      Atlantic Time (Canada)         NaN  \n",
       "110740                         NaN         NaN  \n",
       "111530  Eastern Time (US & Canada)         NaN  \n",
       "\n",
       "[8650 rows x 6 columns]"
      ]
     },
     "execution_count": 34,
     "metadata": {},
     "output_type": "execute_result"
    }
   ],
   "source": [
    "df_deduplicated[df_deduplicated._country == \"IND\"][[\"_country\", \"_region\", \"_city\", \"tweet_location\", \"user_timezone\", \"tweet_coord\"]]"
   ]
  },
  {
   "cell_type": "code",
   "execution_count": 35,
   "metadata": {},
   "outputs": [
    {
     "data": {
      "text/html": [
       "<div>\n",
       "<style scoped>\n",
       "    .dataframe tbody tr th:only-of-type {\n",
       "        vertical-align: middle;\n",
       "    }\n",
       "\n",
       "    .dataframe tbody tr th {\n",
       "        vertical-align: top;\n",
       "    }\n",
       "\n",
       "    .dataframe thead th {\n",
       "        text-align: right;\n",
       "    }\n",
       "</style>\n",
       "<table border=\"1\" class=\"dataframe\">\n",
       "  <thead>\n",
       "    <tr style=\"text-align: right;\">\n",
       "      <th></th>\n",
       "      <th>tweet_location</th>\n",
       "      <th>user_timezone</th>\n",
       "    </tr>\n",
       "  </thead>\n",
       "  <tbody>\n",
       "    <tr>\n",
       "      <th>585</th>\n",
       "      <td>New York City</td>\n",
       "      <td>Eastern Time (US &amp; Canada)</td>\n",
       "    </tr>\n",
       "    <tr>\n",
       "      <th>1915</th>\n",
       "      <td>Seattle</td>\n",
       "      <td>Pacific Time (US &amp; Canada)</td>\n",
       "    </tr>\n",
       "    <tr>\n",
       "      <th>2054</th>\n",
       "      <td>Seattle</td>\n",
       "      <td>Pacific Time (US &amp; Canada)</td>\n",
       "    </tr>\n",
       "    <tr>\n",
       "      <th>2074</th>\n",
       "      <td>London baby</td>\n",
       "      <td>NaN</td>\n",
       "    </tr>\n",
       "    <tr>\n",
       "      <th>2324</th>\n",
       "      <td>NYC</td>\n",
       "      <td>Central Time (US &amp; Canada)</td>\n",
       "    </tr>\n",
       "    <tr>\n",
       "      <th>...</th>\n",
       "      <td>...</td>\n",
       "      <td>...</td>\n",
       "    </tr>\n",
       "    <tr>\n",
       "      <th>104559</th>\n",
       "      <td>Washington, DC</td>\n",
       "      <td>Eastern Time (US &amp; Canada)</td>\n",
       "    </tr>\n",
       "    <tr>\n",
       "      <th>108196</th>\n",
       "      <td>Wichita Falls, Texas</td>\n",
       "      <td>NaN</td>\n",
       "    </tr>\n",
       "    <tr>\n",
       "      <th>109343</th>\n",
       "      <td>SNY in NYC.</td>\n",
       "      <td>Eastern Time (US &amp; Canada)</td>\n",
       "    </tr>\n",
       "    <tr>\n",
       "      <th>109686</th>\n",
       "      <td>ATX</td>\n",
       "      <td>Central Time (US &amp; Canada)</td>\n",
       "    </tr>\n",
       "    <tr>\n",
       "      <th>110358</th>\n",
       "      <td>Santa Monica, CA</td>\n",
       "      <td>NaN</td>\n",
       "    </tr>\n",
       "  </tbody>\n",
       "</table>\n",
       "<p>212 rows × 2 columns</p>\n",
       "</div>"
      ],
      "text/plain": [
       "              tweet_location               user_timezone\n",
       "585           New York City   Eastern Time (US & Canada)\n",
       "1915                 Seattle  Pacific Time (US & Canada)\n",
       "2054                 Seattle  Pacific Time (US & Canada)\n",
       "2074             London baby                         NaN\n",
       "2324                     NYC  Central Time (US & Canada)\n",
       "...                      ...                         ...\n",
       "104559        Washington, DC  Eastern Time (US & Canada)\n",
       "108196  Wichita Falls, Texas                         NaN\n",
       "109343           SNY in NYC.  Eastern Time (US & Canada)\n",
       "109686                  ATX   Central Time (US & Canada)\n",
       "110358      Santa Monica, CA                         NaN\n",
       "\n",
       "[212 rows x 2 columns]"
      ]
     },
     "execution_count": 35,
     "metadata": {},
     "output_type": "execute_result"
    }
   ],
   "source": [
    "df_deduplicated[df_deduplicated._country.isnull() == True][[\"tweet_location\", \"user_timezone\"]]"
   ]
  },
  {
   "cell_type": "markdown",
   "metadata": {},
   "source": [
    "Due to a heavy inconsistency and inaccuracy of data in the geographical data column, it is not possible to match the missing values"
   ]
  }
 ],
 "metadata": {
  "kernelspec": {
   "display_name": ".venv",
   "language": "python",
   "name": "python3"
  },
  "language_info": {
   "codemirror_mode": {
    "name": "ipython",
    "version": 3
   },
   "file_extension": ".py",
   "mimetype": "text/x-python",
   "name": "python",
   "nbconvert_exporter": "python",
   "pygments_lexer": "ipython3",
   "version": "3.12.2"
  }
 },
 "nbformat": 4,
 "nbformat_minor": 2
}
