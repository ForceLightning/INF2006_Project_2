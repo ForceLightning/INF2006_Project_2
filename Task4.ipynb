{
 "cells": [
  {
   "cell_type": "code",
   "execution_count": 77,
   "metadata": {},
   "outputs": [],
   "source": [
    "import findspark\n",
    "findspark.init()\n",
    "\n",
    "import pyspark\n",
    "from pyspark.sql import SparkSession\n",
    "import pyspark.sql.functions as F\n",
    "from load_clean_data import load_clean_data"
   ]
  },
  {
   "cell_type": "code",
   "execution_count": 78,
   "metadata": {},
   "outputs": [],
   "source": [
    "# Create a SparkSession\n",
    "spark = SparkSession.builder.appName(\"Task4\").getOrCreate()\n"
   ]
  },
  {
   "cell_type": "code",
   "execution_count": 79,
   "metadata": {},
   "outputs": [],
   "source": [
    "# Load the data\n",
    "df = load_clean_data(\"./data\", spark)\n"
   ]
  },
  {
   "cell_type": "code",
   "execution_count": 80,
   "metadata": {},
   "outputs": [],
   "source": [
    "# Group by channel and calculate the mean and median of the trusting points\n",
    "df_grouped = df.groupBy(\"_channel\").agg(\n",
    "    F.mean(\"_trust\").alias(\"mean_trusting_points\"),\n",
    "    F.median(\"_trust\").alias(\"median_trusting_points\")\n",
    ")\n"
   ]
  },
  {
   "cell_type": "code",
   "execution_count": 81,
   "metadata": {},
   "outputs": [
    {
     "name": "stdout",
     "output_type": "stream",
     "text": [
      "+----------------+--------------------+----------------------+\n",
      "|_channel        |mean_trusting_points|median_trusting_points|\n",
      "+----------------+--------------------+----------------------+\n",
      "|prizeplank      |1.0                 |1.0                   |\n",
      "|instagc         |0.9086886074429764  |0.9259                |\n",
      "|bitcoinget      |0.9577211864406794  |0.9615                |\n",
      "|tremorgames     |0.8287998293970339  |0.8108                |\n",
      "|coinworker      |0.8390619450317137  |0.8571                |\n",
      "|keeprewarding   |0.866699999999999   |0.8667                |\n",
      "|inboxpounds     |0.9375              |0.9375                |\n",
      "|neodev          |0.8399505561040375  |0.8378                |\n",
      "|zoombucks       |0.9283105102818009  |0.9189                |\n",
      "|cotter          |0.9188999999999999  |0.9189                |\n",
      "|surveymad       |0.8474142857142861  |0.8182                |\n",
      "|tasks4dollars   |0.8106617647058824  |0.8125                |\n",
      "|globalactioncash|0.7999999999999998  |0.8                   |\n",
      "|vivatic         |0.837799999999998   |0.8378                |\n",
      "|rewards1        |0.875               |0.875                 |\n",
      "|getpaid         |0.9235074626865674  |0.875                 |\n",
      "|clixsense       |0.8446473740795458  |0.85                  |\n",
      "|prodege         |0.8891299380492768  |0.8649                |\n",
      "|diamondtask     |0.7000000000000002  |0.7                   |\n",
      "|gifthunterclub  |0.855651635111873   |0.875                 |\n",
      "|prizerebel      |0.945899999999997   |0.9459                |\n",
      "|eup_slw         |0.6999999999999998  |0.7                   |\n",
      "|memolink        |0.9655000000000012  |0.9655                |\n",
      "|task_ph         |0.8649000000000032  |0.8649                |\n",
      "|sharecashgpt    |0.9189000000000002  |0.9189                |\n",
      "|elite           |0.8676844923326285  |0.8571                |\n",
      "+----------------+--------------------+----------------------+\n",
      "\n"
     ]
    }
   ],
   "source": [
    "# Show the results\n",
    "df_grouped.show(df_grouped.count(), False)\n"
   ]
  },
  {
   "cell_type": "code",
   "execution_count": 82,
   "metadata": {},
   "outputs": [],
   "source": [
    "#stop the session\n",
    "spark.stop()"
   ]
  }
 ],
 "metadata": {
  "kernelspec": {
   "display_name": ".venv",
   "language": "python",
   "name": "python3"
  },
  "language_info": {
   "codemirror_mode": {
    "name": "ipython",
    "version": 3
   },
   "file_extension": ".py",
   "mimetype": "text/x-python",
   "name": "python",
   "nbconvert_exporter": "python",
   "pygments_lexer": "ipython3",
   "version": "3.11.9"
  }
 },
 "nbformat": 4,
 "nbformat_minor": 2
}
