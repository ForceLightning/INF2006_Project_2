{
 "cells": [
  {
   "cell_type": "markdown",
   "metadata": {},
   "source": [
    "## Combine the different days data"
   ]
  },
  {
   "cell_type": "code",
   "execution_count": 3,
   "metadata": {},
   "outputs": [],
   "source": [
    "import pandas as pd\n",
    "import os\n",
    "\n",
    "directory = './Twitter_Airline Dataset'\n",
    "all_files = [file for file in os.listdir(directory) if file.endswith('.csv')]\n",
    "\n",
    "all_dataframes = []\n",
    "for file in all_files:\n",
    "    try:\n",
    "        df = pd.read_csv(os.path.join(directory, file), encoding='utf-8')\n",
    "    except UnicodeDecodeError:\n",
    "        df = pd.read_csv(os.path.join(directory, file), encoding='ISO-8859-1')  \n",
    "    all_dataframes.append(df)\n",
    "\n",
    "combined_dataframe = pd.concat(all_dataframes, ignore_index=True)\n",
    "combined_csv_path = os.path.join(directory, 'combined_csv.csv')\n",
    "combined_dataframe.to_csv(combined_csv_path, index=False)"
   ]
  },
  {
   "cell_type": "code",
   "execution_count": 5,
   "metadata": {},
   "outputs": [
    {
     "name": "stdout",
     "output_type": "stream",
     "text": [
      "+--------------------+------------------+---------------+----------+-------+--------------------+--------+-----------+------+----------+--------+-------+--------------------+---------------+-----------------+--------------+--------------+----------------------+----------+-------------------+-------------+--------------------+-----------+---------------+--------+--------------+--------------------+\n",
      "|            _unit_id|       _created_at|        _golden|       _id|_missed|         _started_at|_tainted|   _channel|_trust|_worker_id|_country|_region|               _city|            _ip|airline_sentiment|negativereason|       airline|airline_sentiment_gold|      name|negativereason_gold|retweet_count|                text|tweet_coord|  tweet_created|tweet_id|tweet_location|       user_timezone|\n",
      "+--------------------+------------------+---------------+----------+-------+--------------------+--------+-----------+------+----------+--------+-------+--------------------+---------------+-----------------+--------------+--------------+----------------------+----------+-------------------+-------------+--------------------+-----------+---------------+--------+--------------+--------------------+\n",
      "|           681448150|2/25/2015 04:52:40|          False|1575073003|   NULL|  2/25/2015 04:49:12|   False|      elite|0.8108|  31110645|     IND|      2|           Hyderabad|   14.96.16.155|          neutral|          NULL|Virgin America|                  NULL|   cairdin|               NULL|            0|@VirginAmerica Wh...|       NULL|24/2/2015 11:35| 5.7e+17|          NULL|Eastern Time (US ...|\n",
      "|           681448150|2/25/2015 05:22:10|          False|1575093916|   NULL|  2/25/2015 05:19:59|   False|    prodege|0.8919|   1908948|     CAN|     ON|             Toronto|   69.157.64.87|          neutral|          NULL|Virgin America|                  NULL|   cairdin|               NULL|            0|@VirginAmerica Wh...|       NULL|24/2/2015 11:35| 5.7e+17|          NULL|Eastern Time (US ...|\n",
      "|           681448150|2/25/2015 05:24:40|          False|1575095606|   NULL|  2/25/2015 05:20:10|   False|  clixsense|0.7222|  31396033|     MEX|     19|           Monterrey| 201.173.25.245|          neutral|          NULL|Virgin America|                  NULL|   cairdin|               NULL|            0|@VirginAmerica Wh...|       NULL|24/2/2015 11:35| 5.7e+17|          NULL|Eastern Time (US ...|\n",
      "|           681448153|2/25/2015 01:43:24|          False|1574913129|   NULL|  2/25/2015 01:40:59|   False|     neodev|0.8966|  31346116|     ITA|     18|              Bastia|  93.189.142.86|         positive|          NULL|Virgin America|                  NULL|  jnardino|               NULL|            0|@VirginAmerica pl...|       NULL|24/2/2015 11:15| 5.7e+17|          NULL|Pacific Time (US ...|\n",
      "|           681448153|2/25/2015 01:43:34|          False|1574913225|   NULL|  2/25/2015 01:40:56|   False|     neodev|0.8108|  31452413|     CHL|     12|            Santiago|181.161.155.148|          neutral|          NULL|Virgin America|                  NULL|  jnardino|               NULL|            0|@VirginAmerica pl...|       NULL|24/2/2015 11:15| 5.7e+17|          NULL|Pacific Time (US ...|\n",
      "|           681448153|2/25/2015 01:53:36|          False|1574921921|   NULL|  2/25/2015 01:51:07|   False|  clixsense|0.8649|  31777977|     TUR|     34|            Istanbul| 78.176.111.242|         negative|     badflight|Virgin America|                  NULL|  jnardino|               NULL|            0|@VirginAmerica pl...|       NULL|24/2/2015 11:15| 5.7e+17|          NULL|Pacific Time (US ...|\n",
      "|           681448156|2/25/2015 09:54:54|          False|1575294850|   NULL|  2/25/2015 09:53:43|   False|     neodev|0.8649|  31680409|     HUN|      5|            Budapest|   84.0.164.117|         positive|          NULL|Virgin America|                  NULL|yvonnalynn|               NULL|            0|@VirginAmerica I ...|       NULL|24/2/2015 11:15| 5.7e+17|     Lets Play|Central Time (US ...|\n",
      "|           681448156|2/25/2015 09:55:16|          False|1575295032|   NULL|  2/25/2015 09:53:55|   False|      elite|0.9459|  26336767|     GBR|   NULL|                NULL|   82.6.179.139|          neutral|          NULL|Virgin America|                  NULL|yvonnalynn|               NULL|            0|@VirginAmerica I ...|       NULL|24/2/2015 11:15| 5.7e+17|     Lets Play|Central Time (US ...|\n",
      "|           681448156|2/25/2015 10:01:15|          False|1575299412|   NULL|  2/25/2015 09:56:14|   False|  clixsense|0.9231|  31233495|     MYS|     14|        Kuala Lumpur|175.136.216.211|          neutral|          NULL|Virgin America|                  NULL|yvonnalynn|               NULL|            0|@VirginAmerica I ...|       NULL|24/2/2015 11:15| 5.7e+17|     Lets Play|Central Time (US ...|\n",
      "|           681448158|2/25/2015 03:00:19|          False|1574982445|   NULL|  2/25/2015 02:58:52|   False|  clixsense|0.7297|  28633712|     VEN|   NULL|                NULL| 186.91.141.213|         negative|     CSProblem|Virgin America|                  NULL|  jnardino|               NULL|            0|\"@VirginAmerica i...|       NULL|24/2/2015 11:15| 5.7e+17|          NULL|Pacific Time (US ...|\n",
      "|           681448158|2/25/2015 03:02:43|          False|1574984793|   NULL|  2/25/2015 02:59:01|   False|tremorgames|0.7778|  30257704|     BRA|     27|           São Paulo|  201.6.193.157|         negative|     badflight|Virgin America|                  NULL|  jnardino|               NULL|            0|\"@VirginAmerica i...|       NULL|24/2/2015 11:15| 5.7e+17|          NULL|Pacific Time (US ...|\n",
      "|           681448158|2/25/2015 03:05:28|          False|1574987372|   NULL|  2/25/2015 02:58:56|   False|    instagc|0.9524|  29411108|     USA|     OH|           Fairfield|    71.79.16.89|         negative|     badflight|Virgin America|                  NULL|  jnardino|               NULL|            0|\"@VirginAmerica i...|       NULL|24/2/2015 11:15| 5.7e+17|          NULL|Pacific Time (US ...|\n",
      "|           681448159|2/25/2015 05:48:45|          False|1575113792|   NULL|  2/25/2015 05:46:56|   False|      elite|0.9459|  31028719|     MEX|     19|San Nicolás De Lo...|  189.153.91.14|         negative|      canttell|Virgin America|                  NULL|  jnardino|               NULL|            0|@VirginAmerica an...|       NULL|24/2/2015 11:14| 5.7e+17|          NULL|Pacific Time (US ...|\n",
      "|           681448159|2/25/2015 05:49:57|          False|1575114719|   NULL|  2/25/2015 05:46:50|   False|      elite|0.8108|  31110645|     IND|      2|           Hyderabad|   14.96.16.155|         negative|      canttell|Virgin America|                  NULL|  jnardino|               NULL|            0|@VirginAmerica an...|       NULL|24/2/2015 11:14| 5.7e+17|          NULL|Pacific Time (US ...|\n",
      "|           681448159|2/25/2015 05:50:28|          False|1575115160|   NULL|  2/25/2015 05:46:56|   False|     neodev|0.7917|  12383470|     IND|   NULL|                NULL|   14.96.34.201|         negative|      canttell|Virgin America|                  NULL|  jnardino|               NULL|            0|@VirginAmerica an...|       NULL|24/2/2015 11:14| 5.7e+17|          NULL|Pacific Time (US ...|\n",
      "|           681448162|2/25/2015 09:09:49|          False|1575262718|   NULL|  2/25/2015 09:07:03|   False|      elite|0.8108|  25411252|     IND|   NULL|                NULL| 116.202.38.143|         negative|     badflight|Virgin America|                  NULL|  jnardino|               NULL|            0|@VirginAmerica se...|       NULL|           NULL|    NULL|          NULL|                NULL|\n",
      "|it's really the o...|              NULL|24/2/2015 11:14|   5.7e+17|   NULL|Pacific Time (US ...|    NULL|       NULL|  NULL|      NULL|    NULL|   NULL|                NULL|           NULL|             NULL|          NULL|          NULL|                  NULL|      NULL|               NULL|         NULL|                NULL|       NULL|           NULL|    NULL|          NULL|                NULL|\n",
      "|           681448162|2/25/2015 09:09:51|          False|1575262724|   NULL|  2/25/2015 09:07:06|   False|     neodev|0.8649|  30259533|     PRT|     17|   Vila Nova De Gaia|  188.83.91.199|         negative|      canttell|Virgin America|                  NULL|  jnardino|               NULL|            0|@VirginAmerica se...|       NULL|           NULL|    NULL|          NULL|                NULL|\n",
      "|it's really the o...|              NULL|24/2/2015 11:14|   5.7e+17|   NULL|Pacific Time (US ...|    NULL|       NULL|  NULL|      NULL|    NULL|   NULL|                NULL|           NULL|             NULL|          NULL|          NULL|                  NULL|      NULL|               NULL|         NULL|                NULL|       NULL|           NULL|    NULL|          NULL|                NULL|\n",
      "|           681448162|2/25/2015 09:10:19|          False|1575263005|   NULL|  2/25/2015 09:07:07|   False|  clixsense|0.8919|  30850035|     ESP|     56|           Barcelona|  217.127.77.89|         negative|      canttell|Virgin America|                  NULL|  jnardino|               NULL|            0|@VirginAmerica se...|       NULL|           NULL|    NULL|          NULL|                NULL|\n",
      "+--------------------+------------------+---------------+----------+-------+--------------------+--------+-----------+------+----------+--------+-------+--------------------+---------------+-----------------+--------------+--------------+----------------------+----------+-------------------+-------------+--------------------+-----------+---------------+--------+--------------+--------------------+\n",
      "only showing top 20 rows\n",
      "\n"
     ]
    }
   ],
   "source": [
    "from pyspark.sql import SparkSession\n",
    "from pyspark.sql.functions import col\n",
    "\n",
    "spark = SparkSession.builder.appName(\"TwitterAirlineAnalysis\").getOrCreate()\n",
    "\n",
    "df = spark.read.csv(\"./Twitter_Airline Dataset/combined_csv.csv\", header=True)\n",
    "\n",
    "df.show()\n"
   ]
  },
  {
   "cell_type": "code",
   "execution_count": 7,
   "metadata": {},
   "outputs": [
    {
     "data": {
      "text/plain": [
       "587942"
      ]
     },
     "execution_count": 7,
     "metadata": {},
     "output_type": "execute_result"
    }
   ],
   "source": [
    "df.count()"
   ]
  },
  {
   "cell_type": "markdown",
   "metadata": {},
   "source": [
    "Task 1: To list and justify your interpretation of the dataset. \n",
    "For example \n",
    "1) what are the meanings of the columns being used, how and why are they being used; \n",
    "2) list (if any) thepre-processing on the dataset like deduplicating, filling up missing values."
   ]
  },
  {
   "cell_type": "markdown",
   "metadata": {},
   "source": [
    "## Deduplicate based on uniqiue identifiers"
   ]
  },
  {
   "cell_type": "code",
   "execution_count": 8,
   "metadata": {},
   "outputs": [],
   "source": [
    "df_deduplicated = df.drop_duplicates(subset=['_unit_id', '_id'])"
   ]
  },
  {
   "cell_type": "code",
   "execution_count": 9,
   "metadata": {},
   "outputs": [
    {
     "data": {
      "text/plain": [
       "56022"
      ]
     },
     "execution_count": 9,
     "metadata": {},
     "output_type": "execute_result"
    }
   ],
   "source": [
    "df_deduplicated.count()"
   ]
  },
  {
   "cell_type": "markdown",
   "metadata": {},
   "source": [
    "## Missing Value"
   ]
  },
  {
   "cell_type": "markdown",
   "metadata": {},
   "source": [
    "Fill missing 'retweet count' with mean"
   ]
  },
  {
   "cell_type": "code",
   "execution_count": 10,
   "metadata": {},
   "outputs": [
    {
     "data": {
      "text/plain": [
       "0.08358175375442939"
      ]
     },
     "execution_count": 10,
     "metadata": {},
     "output_type": "execute_result"
    }
   ],
   "source": [
    "from pyspark.sql.functions import when, col, mean, lit\n",
    "mean_val = df_deduplicated.select(mean(df_deduplicated['retweet_count'])).collect()[0][0]\n",
    "mean_val"
   ]
  },
  {
   "cell_type": "code",
   "execution_count": 11,
   "metadata": {},
   "outputs": [],
   "source": [
    "df_deduplicated = df_deduplicated.withColumn('retweet_count', when(col('retweet_count').isNull(), mean_val).otherwise(col('retweet_count')))"
   ]
  },
  {
   "cell_type": "code",
   "execution_count": 13,
   "metadata": {},
   "outputs": [
    {
     "name": "stdout",
     "output_type": "stream",
     "text": [
      "+--------------------+------------------+---------------+----------+------------------+--------------------+--------+-----------+------+----------+--------+-------+-----------+---------------+-----------------+--------------+--------------+----------------------+---------------+-------------------+-------------------+--------------------+--------------------+---------------+--------+--------------------+--------------------+\n",
      "|            _unit_id|       _created_at|        _golden|       _id|           _missed|         _started_at|_tainted|   _channel|_trust|_worker_id|_country|_region|      _city|            _ip|airline_sentiment|negativereason|       airline|airline_sentiment_gold|           name|negativereason_gold|      retweet_count|                text|         tweet_coord|  tweet_created|tweet_id|      tweet_location|       user_timezone|\n",
      "+--------------------+------------------+---------------+----------+------------------+--------------------+--------+-----------+------+----------+--------+-------+-----------+---------------+-----------------+--------------+--------------+----------------------+---------------+-------------------+-------------------+--------------------+--------------------+---------------+--------+--------------------+--------------------+\n",
      "|           #annoyed\"|              NULL|19/2/2015 20:33|  5.69e+17|              NULL|                NULL|    NULL|       NULL|  NULL|      NULL|    NULL|   NULL|       NULL|           NULL|             NULL|          NULL|          NULL|                  NULL|           NULL|               NULL|0.08358175375442939|                NULL|                NULL|           NULL|    NULL|                NULL|                NULL|\n",
      "|         #flyunited\"|              NULL|17/2/2015 18:22|  5.68e+17|              NULL|Atlantic Time (Ca...|    NULL|       NULL|  NULL|      NULL|    NULL|   NULL|       NULL|           NULL|             NULL|          NULL|          NULL|                  NULL|           NULL|               NULL|0.08358175375442939|                NULL|                NULL|           NULL|    NULL|                NULL|                NULL|\n",
      "|#wheelsup #JetBlu...|              NULL|24/2/2015 11:48|   5.7e+17|east brunswick, nj|Atlantic Time (Ca...|    NULL|       NULL|  NULL|      NULL|    NULL|   NULL|       NULL|           NULL|             NULL|          NULL|          NULL|                  NULL|           NULL|               NULL|0.08358175375442939|                NULL|                NULL|           NULL|    NULL|                NULL|                NULL|\n",
      "|....how about a 1...|              NULL|23/2/2015 11:12|   5.7e+17|              NULL|                NULL|    NULL|       NULL|  NULL|      NULL|    NULL|   NULL|       NULL|           NULL|             NULL|          NULL|          NULL|                  NULL|           NULL|               NULL|0.08358175375442939|                NULL|                NULL|           NULL|    NULL|                NULL|                NULL|\n",
      "|           681448158|2/25/2015 03:05:28|          False|1574987372|              NULL|  2/25/2015 02:58:56|   False|    instagc|0.9524|  29411108|     USA|     OH|  Fairfield|    71.79.16.89|         negative|     badflight|Virgin America|                  NULL|       jnardino|               NULL|                  0|\"@VirginAmerica i...|                NULL|24/2/2015 11:15| 5.7e+17|                NULL|Pacific Time (US ...|\n",
      "|           681448169|2/25/2015 08:59:02|          False|1575255039|              NULL|  2/25/2015 08:57:46|   False|     neodev|0.8649|  11018419|     SRB|   NULL|       NULL|  188.2.118.131|          neutral|          NULL|Virgin America|                  NULL|       dhepburn|               NULL|                  0|@virginamerica We...|                NULL|24/2/2015 11:11| 5.7e+17|           San Diego|Pacific Time (US ...|\n",
      "|           681448171|2/25/2015 04:09:55|          False|1575043188|              NULL|  2/25/2015 04:05:24|   False|     neodev|0.8125|  31560993|     VEN|     25|    Caracas|181.184.150.184|         positive|          NULL|Virgin America|                  NULL|     YupitsTate|               NULL|                  0|@VirginAmerica it...|                NULL|24/2/2015 10:53| 5.7e+17|         Los Angeles|Eastern Time (US ...|\n",
      "|           681448174|2/25/2015 08:34:21|          False|1575237294|              NULL|  2/25/2015 08:28:20|   False|     neodev|0.8108|  28375885|     ESP|     39|Torrelavega|   92.57.58.253|          neutral|          NULL|Virgin America|                  NULL|idk_but_youtube|               NULL|                  0|@VirginAmerica di...|                NULL|24/2/2015 10:48| 5.7e+17|     1/1 loner squad|Eastern Time (US ...|\n",
      "|           681448184|2/25/2015 03:11:28|          False|1574992338|              NULL|  2/25/2015 03:04:42|   False|  clixsense|0.9459|  28745592|     IDN|   NULL|       NULL| 118.97.212.185|         negative|          late|Virgin America|                  NULL|smartwatermelon|               NULL|                  0|@VirginAmerica SF...|                NULL|24/2/2015 10:01| 5.7e+17|       palo alto, ca|Pacific Time (US ...|\n",
      "|           681448204|2/25/2015 05:46:20|          False|1575111942|              NULL|  2/25/2015 05:44:03|   False|  clixsense|0.8378|  21730089|     IND|     16|     Mumbai| 183.87.157.202|         negative| airplanestaff|Virgin America|                  NULL|    ayeevickiee|               NULL|                  0|@VirginAmerica yo...|                NULL| 24/2/2015 8:18| 5.7e+17|                 714|Mountain Time (US...|\n",
      "|           681448206|2/25/2015 04:54:53|          False|1575074446|              NULL|  2/25/2015 04:53:05|   False|     neodev|0.9189|  27316712|     ARE|      1|  Abu Dhabi| 217.164.12.219|         negative|     CSProblem|Virgin America|                  NULL|        Leora13|               NULL|                  0|@VirginAmerica st...|                NULL| 24/2/2015 7:49| 5.7e+17|                NULL|                NULL|\n",
      "|           681448221|2/25/2015 02:55:45|          False|1574977923|              NULL|  2/25/2015 02:45:45|   False|     neodev|0.8125|  31560993|     VEN|     25|    Caracas|181.184.150.184|          neutral|          NULL|Virgin America|                  NULL|   JCervantezzz|               NULL|                  0|@VirginAmerica Ar...|                NULL|23/2/2015 21:35| 5.7e+17|California, San F...|Pacific Time (US ...|\n",
      "|           681448230|2/25/2015 02:07:15|          False|1574935613|              NULL|  2/25/2015 02:05:51|   False|     neodev|0.7353|  27922931|     ESP|   NULL|       NULL|    85.60.63.87|          neutral|          NULL|Virgin America|                  NULL|    miaerolinea|               NULL|                  0|Nice RT @VirginAm...|                NULL|23/2/2015 18:46| 5.7e+17|           Worldwide|             Caracas|\n",
      "|           681448230|2/25/2015 02:08:15|          False|1574936618|              NULL|  2/25/2015 02:06:36|   False|     neodev|0.9459|  13923091|     IDN|     30|  Tangerang| 180.250.88.122|         positive|          NULL|Virgin America|                  NULL|    miaerolinea|               NULL|                  0|Nice RT @VirginAm...|                NULL|23/2/2015 18:46| 5.7e+17|           Worldwide|             Caracas|\n",
      "|           681448230|2/25/2015 02:14:56|          False|1574942520|              NULL|  2/25/2015 02:05:50|   False|     neodev|0.8125|  31560993|     VEN|     25|    Caracas|181.184.150.184|          neutral|          NULL|Virgin America|                  NULL|    miaerolinea|               NULL|                  0|Nice RT @VirginAm...|                NULL|23/2/2015 18:46| 5.7e+17|           Worldwide|             Caracas|\n",
      "|           681448239|2/25/2015 06:24:29|          False|1575142904|              NULL|  2/25/2015 06:20:21|   False|  clixsense|0.8649|  25864227|     IDN|      4|    Jakarta|     139.0.12.6|         positive|          NULL|Virgin America|                  NULL|      Nicsplace|               NULL|                  0|@VirginAmerica @f...|                NULL|23/2/2015 18:19| 5.7e+17|       Central Texas|                NULL|\n",
      "|           681448245|2/25/2015 00:42:29|          False|1574843673|              NULL|  2/25/2015 00:39:32|   False|     neodev|0.8649|  28976121|     BIH|      1|   Sarajevo|  77.78.217.145|         positive|          NULL|Virgin America|                  NULL|jamesferrandini|               NULL|                  0|@VirginAmerica Vi...|                NULL|23/2/2015 17:32| 5.7e+17|                NULL|                NULL|\n",
      "|           681448249|2/25/2015 06:24:47|          False|1575143085|              NULL|  2/25/2015 06:21:43|   False|     neodev|0.8919|  31130210|     IND|      2|  Hyderabad|  106.76.219.42|          neutral|          NULL|Virgin America|                  NULL|     GottAmanda|               NULL|                  0|@VirginAmerica pl...|[34.0219817, -118...|23/2/2015 16:24| 5.7e+17|         Los Angeles|                NULL|\n",
      "|           681448256|2/25/2015 05:46:20|          False|1575111957|              NULL|  2/25/2015 05:39:49|   False|tremorgames|0.7568|  30608593|     HRV|     15|      Split| 95.178.215.195|         positive|          NULL|Virgin America|                  NULL|      arieldaie|               NULL|                  0|@VirginAmerica I'...|                NULL|23/2/2015 16:08| 5.7e+17|         Los Angeles|                NULL|\n",
      "|           681448265|2/25/2015 03:22:53|          False|1575001607|              NULL|  2/25/2015 03:21:06|   False|  clixsense|0.8919|   6577739|     ITA|      7|       Rome|  151.25.75.239|          neutral|          NULL|Virgin America|                  NULL|    grantbrowne|               NULL|                  0|\"@VirginAmerica I...|                NULL|23/2/2015 15:55| 5.7e+17|           Worldwide|Central Time (US ...|\n",
      "+--------------------+------------------+---------------+----------+------------------+--------------------+--------+-----------+------+----------+--------+-------+-----------+---------------+-----------------+--------------+--------------+----------------------+---------------+-------------------+-------------------+--------------------+--------------------+---------------+--------+--------------------+--------------------+\n",
      "only showing top 20 rows\n",
      "\n"
     ]
    }
   ],
   "source": [
    "df_deduplicated.show()"
   ]
  },
  {
   "cell_type": "markdown",
   "metadata": {},
   "source": [
    "Fill missing 'user_timezone' with mode"
   ]
  },
  {
   "cell_type": "code",
   "execution_count": 22,
   "metadata": {},
   "outputs": [
    {
     "data": {
      "text/plain": [
       "('Eastern Time (US & Canada)', 34084)"
      ]
     },
     "execution_count": 22,
     "metadata": {},
     "output_type": "execute_result"
    }
   ],
   "source": [
    "df_deduplicated = df_deduplicated.withColumn(\"user_timezone\", when(col(\"user_timezone\") == \"NULL\", None).otherwise(col(\"user_timezone\")))\n",
    "\n",
    "# mode of 'user_timezone'\n",
    "mode_timezone = df_deduplicated.na.drop(subset=[\"user_timezone\"]) \\\n",
    "                               .groupBy(\"user_timezone\") \\\n",
    "                               .count() \\\n",
    "                               .orderBy(\"count\", ascending=False) \\\n",
    "                               .first()[\"user_timezone\"]\n",
    "\n",
    "# fill missing values with the mode\n",
    "df_deduplicated = df_deduplicated.na.fill({\"user_timezone\": mode_timezone})\n",
    "\n",
    "# Count the number of rows that were filled\n",
    "filled_rows_count = df_deduplicated.filter(col(\"user_timezone\") == mode_timezone).count()\n",
    "\n",
    "mode_timezone, filled_rows_count\n"
   ]
  },
  {
   "cell_type": "code",
   "execution_count": 21,
   "metadata": {},
   "outputs": [
    {
     "name": "stdout",
     "output_type": "stream",
     "text": [
      "+--------------------+------------------+---------------+----------+------------------+--------------------+--------+-----------+------+----------+--------+-------+-----------+---------------+-----------------+--------------+--------------+----------------------+---------------+-------------------+-------------------+--------------------+--------------------+---------------+--------+--------------------+--------------------+\n",
      "|            _unit_id|       _created_at|        _golden|       _id|           _missed|         _started_at|_tainted|   _channel|_trust|_worker_id|_country|_region|      _city|            _ip|airline_sentiment|negativereason|       airline|airline_sentiment_gold|           name|negativereason_gold|      retweet_count|                text|         tweet_coord|  tweet_created|tweet_id|      tweet_location|       user_timezone|\n",
      "+--------------------+------------------+---------------+----------+------------------+--------------------+--------+-----------+------+----------+--------+-------+-----------+---------------+-----------------+--------------+--------------+----------------------+---------------+-------------------+-------------------+--------------------+--------------------+---------------+--------+--------------------+--------------------+\n",
      "|           #annoyed\"|              NULL|19/2/2015 20:33|  5.69e+17|              NULL|                NULL|    NULL|       NULL|  NULL|      NULL|    NULL|   NULL|       NULL|           NULL|             NULL|          NULL|          NULL|                  NULL|           NULL|               NULL|0.08358175375442939|                NULL|                NULL|           NULL|    NULL|                NULL|Eastern Time (US ...|\n",
      "|         #flyunited\"|              NULL|17/2/2015 18:22|  5.68e+17|              NULL|Atlantic Time (Ca...|    NULL|       NULL|  NULL|      NULL|    NULL|   NULL|       NULL|           NULL|             NULL|          NULL|          NULL|                  NULL|           NULL|               NULL|0.08358175375442939|                NULL|                NULL|           NULL|    NULL|                NULL|Eastern Time (US ...|\n",
      "|#wheelsup #JetBlu...|              NULL|24/2/2015 11:48|   5.7e+17|east brunswick, nj|Atlantic Time (Ca...|    NULL|       NULL|  NULL|      NULL|    NULL|   NULL|       NULL|           NULL|             NULL|          NULL|          NULL|                  NULL|           NULL|               NULL|0.08358175375442939|                NULL|                NULL|           NULL|    NULL|                NULL|Eastern Time (US ...|\n",
      "|....how about a 1...|              NULL|23/2/2015 11:12|   5.7e+17|              NULL|                NULL|    NULL|       NULL|  NULL|      NULL|    NULL|   NULL|       NULL|           NULL|             NULL|          NULL|          NULL|                  NULL|           NULL|               NULL|0.08358175375442939|                NULL|                NULL|           NULL|    NULL|                NULL|Eastern Time (US ...|\n",
      "|           681448158|2/25/2015 03:05:28|          False|1574987372|              NULL|  2/25/2015 02:58:56|   False|    instagc|0.9524|  29411108|     USA|     OH|  Fairfield|    71.79.16.89|         negative|     badflight|Virgin America|                  NULL|       jnardino|               NULL|                  0|\"@VirginAmerica i...|                NULL|24/2/2015 11:15| 5.7e+17|                NULL|Pacific Time (US ...|\n",
      "|           681448169|2/25/2015 08:59:02|          False|1575255039|              NULL|  2/25/2015 08:57:46|   False|     neodev|0.8649|  11018419|     SRB|   NULL|       NULL|  188.2.118.131|          neutral|          NULL|Virgin America|                  NULL|       dhepburn|               NULL|                  0|@virginamerica We...|                NULL|24/2/2015 11:11| 5.7e+17|           San Diego|Pacific Time (US ...|\n",
      "|           681448171|2/25/2015 04:09:55|          False|1575043188|              NULL|  2/25/2015 04:05:24|   False|     neodev|0.8125|  31560993|     VEN|     25|    Caracas|181.184.150.184|         positive|          NULL|Virgin America|                  NULL|     YupitsTate|               NULL|                  0|@VirginAmerica it...|                NULL|24/2/2015 10:53| 5.7e+17|         Los Angeles|Eastern Time (US ...|\n",
      "|           681448174|2/25/2015 08:34:21|          False|1575237294|              NULL|  2/25/2015 08:28:20|   False|     neodev|0.8108|  28375885|     ESP|     39|Torrelavega|   92.57.58.253|          neutral|          NULL|Virgin America|                  NULL|idk_but_youtube|               NULL|                  0|@VirginAmerica di...|                NULL|24/2/2015 10:48| 5.7e+17|     1/1 loner squad|Eastern Time (US ...|\n",
      "|           681448184|2/25/2015 03:11:28|          False|1574992338|              NULL|  2/25/2015 03:04:42|   False|  clixsense|0.9459|  28745592|     IDN|   NULL|       NULL| 118.97.212.185|         negative|          late|Virgin America|                  NULL|smartwatermelon|               NULL|                  0|@VirginAmerica SF...|                NULL|24/2/2015 10:01| 5.7e+17|       palo alto, ca|Pacific Time (US ...|\n",
      "|           681448204|2/25/2015 05:46:20|          False|1575111942|              NULL|  2/25/2015 05:44:03|   False|  clixsense|0.8378|  21730089|     IND|     16|     Mumbai| 183.87.157.202|         negative| airplanestaff|Virgin America|                  NULL|    ayeevickiee|               NULL|                  0|@VirginAmerica yo...|                NULL| 24/2/2015 8:18| 5.7e+17|                 714|Mountain Time (US...|\n",
      "|           681448206|2/25/2015 04:54:53|          False|1575074446|              NULL|  2/25/2015 04:53:05|   False|     neodev|0.9189|  27316712|     ARE|      1|  Abu Dhabi| 217.164.12.219|         negative|     CSProblem|Virgin America|                  NULL|        Leora13|               NULL|                  0|@VirginAmerica st...|                NULL| 24/2/2015 7:49| 5.7e+17|                NULL|Eastern Time (US ...|\n",
      "|           681448221|2/25/2015 02:55:45|          False|1574977923|              NULL|  2/25/2015 02:45:45|   False|     neodev|0.8125|  31560993|     VEN|     25|    Caracas|181.184.150.184|          neutral|          NULL|Virgin America|                  NULL|   JCervantezzz|               NULL|                  0|@VirginAmerica Ar...|                NULL|23/2/2015 21:35| 5.7e+17|California, San F...|Pacific Time (US ...|\n",
      "|           681448230|2/25/2015 02:07:15|          False|1574935613|              NULL|  2/25/2015 02:05:51|   False|     neodev|0.7353|  27922931|     ESP|   NULL|       NULL|    85.60.63.87|          neutral|          NULL|Virgin America|                  NULL|    miaerolinea|               NULL|                  0|Nice RT @VirginAm...|                NULL|23/2/2015 18:46| 5.7e+17|           Worldwide|             Caracas|\n",
      "|           681448230|2/25/2015 02:08:15|          False|1574936618|              NULL|  2/25/2015 02:06:36|   False|     neodev|0.9459|  13923091|     IDN|     30|  Tangerang| 180.250.88.122|         positive|          NULL|Virgin America|                  NULL|    miaerolinea|               NULL|                  0|Nice RT @VirginAm...|                NULL|23/2/2015 18:46| 5.7e+17|           Worldwide|             Caracas|\n",
      "|           681448230|2/25/2015 02:14:56|          False|1574942520|              NULL|  2/25/2015 02:05:50|   False|     neodev|0.8125|  31560993|     VEN|     25|    Caracas|181.184.150.184|          neutral|          NULL|Virgin America|                  NULL|    miaerolinea|               NULL|                  0|Nice RT @VirginAm...|                NULL|23/2/2015 18:46| 5.7e+17|           Worldwide|             Caracas|\n",
      "|           681448239|2/25/2015 06:24:29|          False|1575142904|              NULL|  2/25/2015 06:20:21|   False|  clixsense|0.8649|  25864227|     IDN|      4|    Jakarta|     139.0.12.6|         positive|          NULL|Virgin America|                  NULL|      Nicsplace|               NULL|                  0|@VirginAmerica @f...|                NULL|23/2/2015 18:19| 5.7e+17|       Central Texas|Eastern Time (US ...|\n",
      "|           681448245|2/25/2015 00:42:29|          False|1574843673|              NULL|  2/25/2015 00:39:32|   False|     neodev|0.8649|  28976121|     BIH|      1|   Sarajevo|  77.78.217.145|         positive|          NULL|Virgin America|                  NULL|jamesferrandini|               NULL|                  0|@VirginAmerica Vi...|                NULL|23/2/2015 17:32| 5.7e+17|                NULL|Eastern Time (US ...|\n",
      "|           681448249|2/25/2015 06:24:47|          False|1575143085|              NULL|  2/25/2015 06:21:43|   False|     neodev|0.8919|  31130210|     IND|      2|  Hyderabad|  106.76.219.42|          neutral|          NULL|Virgin America|                  NULL|     GottAmanda|               NULL|                  0|@VirginAmerica pl...|[34.0219817, -118...|23/2/2015 16:24| 5.7e+17|         Los Angeles|Eastern Time (US ...|\n",
      "|           681448256|2/25/2015 05:46:20|          False|1575111957|              NULL|  2/25/2015 05:39:49|   False|tremorgames|0.7568|  30608593|     HRV|     15|      Split| 95.178.215.195|         positive|          NULL|Virgin America|                  NULL|      arieldaie|               NULL|                  0|@VirginAmerica I'...|                NULL|23/2/2015 16:08| 5.7e+17|         Los Angeles|Eastern Time (US ...|\n",
      "|           681448265|2/25/2015 03:22:53|          False|1575001607|              NULL|  2/25/2015 03:21:06|   False|  clixsense|0.8919|   6577739|     ITA|      7|       Rome|  151.25.75.239|          neutral|          NULL|Virgin America|                  NULL|    grantbrowne|               NULL|                  0|\"@VirginAmerica I...|                NULL|23/2/2015 15:55| 5.7e+17|           Worldwide|Central Time (US ...|\n",
      "+--------------------+------------------+---------------+----------+------------------+--------------------+--------+-----------+------+----------+--------+-------+-----------+---------------+-----------------+--------------+--------------+----------------------+---------------+-------------------+-------------------+--------------------+--------------------+---------------+--------+--------------------+--------------------+\n",
      "only showing top 20 rows\n",
      "\n"
     ]
    }
   ],
   "source": [
    "df_deduplicated.show()"
   ]
  },
  {
   "cell_type": "markdown",
   "metadata": {},
   "source": [
    "## TASK 2"
   ]
  },
  {
   "cell_type": "code",
   "execution_count": 24,
   "metadata": {},
   "outputs": [
    {
     "name": "stdout",
     "output_type": "stream",
     "text": [
      "+--------------+\n",
      "|negativereason|\n",
      "+--------------+\n",
      "|longlines     |\n",
      "|cancel        |\n",
      "|lostluggae    |\n",
      "|late          |\n",
      "|booking       |\n",
      "|CSProblem     |\n",
      "|badflight     |\n",
      "|canttell      |\n",
      "|airplanestaff |\n",
      "|damagedluggage|\n",
      "|NULL          |\n",
      "+--------------+\n",
      "\n"
     ]
    }
   ],
   "source": [
    "unique_negative_reasons = df_deduplicated.select(\"negativereason\").distinct()\n",
    "unique_negative_reasons.show(truncate=False)"
   ]
  },
  {
   "cell_type": "code",
   "execution_count": 26,
   "metadata": {},
   "outputs": [
    {
     "name": "stdout",
     "output_type": "stream",
     "text": [
      "+--------------+\n",
      "|airline       |\n",
      "+--------------+\n",
      "|Delta         |\n",
      "|Virgin America|\n",
      "|United        |\n",
      "|US Airways    |\n",
      "|Southwest     |\n",
      "|American      |\n",
      "|NULL          |\n",
      "+--------------+\n",
      "\n"
     ]
    }
   ],
   "source": [
    "uique_airlines = df_deduplicated.select(\"airline\").distinct()\n",
    "uique_airlines.show(truncate=False)"
   ]
  },
  {
   "cell_type": "code",
   "execution_count": 28,
   "metadata": {},
   "outputs": [
    {
     "data": {
      "text/plain": [
       "239"
      ]
     },
     "execution_count": 28,
     "metadata": {},
     "output_type": "execute_result"
    }
   ],
   "source": [
    "null_count = df_deduplicated.filter(col(\"airline\").isNull()).count()\n",
    "null_string_count = df_deduplicated.filter(col(\"airline\") == \"NULL\").count()\n",
    "total_nulls = null_count + null_string_count\n",
    "total_nulls"
   ]
  },
  {
   "cell_type": "markdown",
   "metadata": {},
   "source": [
    "Since it is only 239 rows of 56022 imma drop that shit"
   ]
  },
  {
   "cell_type": "code",
   "execution_count": 29,
   "metadata": {},
   "outputs": [],
   "source": [
    "df_deduplicated = df_deduplicated.filter((col(\"airline\").isNotNull()) & (col(\"airline\") != \"NULL\"))"
   ]
  },
  {
   "cell_type": "code",
   "execution_count": 31,
   "metadata": {},
   "outputs": [
    {
     "name": "stdout",
     "output_type": "stream",
     "text": [
      "+--------------+---------------------------------------------------------------+\n",
      "|airline       |top_5_reasons                                                  |\n",
      "+--------------+---------------------------------------------------------------+\n",
      "|Delta         |[damagedluggage, lostluggae, airplanestaff, booking, longlines]|\n",
      "|Virgin America|[late, damagedluggage, booking, airplanestaff, cancel]         |\n",
      "|United        |[CSProblem, booking, canttell, badflight, damagedluggage]      |\n",
      "|US Airways    |[late, canttell, cancel, CSProblem, booking]                   |\n",
      "|Southwest     |[CSProblem, cancel, canttell, badflight, lostluggae]           |\n",
      "|American      |[late, cancel, canttell, airplanestaff, lostluggae]            |\n",
      "+--------------+---------------------------------------------------------------+\n",
      "\n"
     ]
    }
   ],
   "source": [
    "from pyspark.sql.functions import count, collect_list, udf\n",
    "from pyspark.sql.types import ArrayType, StringType\n",
    "\n",
    "def top_n_reasons(reasons, counts, n=5):\n",
    "    return [reason for reason, count in sorted(zip(reasons, counts), key=lambda x: x[1], reverse=True)[:n]]\n",
    "\n",
    "top_n_udf = udf(top_n_reasons, ArrayType(StringType()))\n",
    "\n",
    "top_neg_reasons = df_deduplicated.groupBy('airline', 'negativereason') \\\n",
    "    .agg(count('negativereason').alias('reason_count'))\n",
    "\n",
    "# Group by airline again to collect all reasons and counts into lists\n",
    "airline_reasons = top_neg_reasons.groupBy('airline') \\\n",
    "    .agg(collect_list('negativereason').alias('all_reasons'), \n",
    "         collect_list('reason_count').alias('all_counts'))\n",
    "\n",
    "# top 5 reasons for each airline\n",
    "top_5_neg_reasons = airline_reasons.withColumn('top_5_reasons', top_n_udf('all_reasons', 'all_counts'))\n",
    "\n",
    "top_5_neg_reasons.select('airline', 'top_5_reasons').show(truncate=False)"
   ]
  }
 ],
 "metadata": {
  "kernelspec": {
   "display_name": "Python 3",
   "language": "python",
   "name": "python3"
  },
  "language_info": {
   "codemirror_mode": {
    "name": "ipython",
    "version": 3
   },
   "file_extension": ".py",
   "mimetype": "text/x-python",
   "name": "python",
   "nbconvert_exporter": "python",
   "pygments_lexer": "ipython3",
   "version": "3.10.11"
  }
 },
 "nbformat": 4,
 "nbformat_minor": 2
}
